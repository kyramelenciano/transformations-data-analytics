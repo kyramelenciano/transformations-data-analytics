{
 "cells": [
  {
   "cell_type": "markdown",
   "metadata": {},
   "source": [
    "# RDBMS and SQL"
   ]
  },
  {
   "cell_type": "markdown",
   "metadata": {},
   "source": [
    "Complete the tasks listed below. You can submit the completed lab until 11:59 PM in the night."
   ]
  },
  {
   "cell_type": "markdown",
   "metadata": {},
   "source": [
    "<u>Requirement:</u><br>\n",
    "Do your best to write Pythonic code instead of the traditional programming code."
   ]
  },
  {
   "cell_type": "markdown",
   "metadata": {},
   "source": [
    "### Task 1 (2 marks)\n",
    "\n",
    "Connect to the supplied database __petsDB__, and write a function named __is_open__ to check if the connection is open or closed. The function, when called, should return either True or False depending upon whether the connection to the database is open or closed. The output in the two cases should look as follows:"
   ]
  },
  {
   "cell_type": "markdown",
   "metadata": {
    "slideshow": {
     "slide_type": "fragment"
    }
   },
   "source": [
    "True\n",
    "\n",
    "Connection closed. Cannot operate on a closed database.<br>False"
   ]
  },
  {
   "cell_type": "markdown",
   "metadata": {},
   "source": [
    "<u>Hint:</u> Use __try__ and __except__ along with the exception error `sqlite3.ProgrammingError` in conjunction with __except__."
   ]
  },
  {
   "cell_type": "code",
   "execution_count": 108,
   "metadata": {},
   "outputs": [],
   "source": [
    "### Write your code below this comment.\n",
    "import sqlite3\n",
    "def is_open(conn):\n",
    "     try:\n",
    "        conn.cursor()\n",
    "        return True\n",
    "     except sqlite3.ProgrammingError:\n",
    "        return print('Connection closed. Cannot operate on a closed database.\\n', False, sep='') \n"
   ]
  },
  {
   "cell_type": "code",
   "execution_count": 109,
   "metadata": {},
   "outputs": [
    {
     "data": {
      "text/plain": [
       "True"
      ]
     },
     "execution_count": 109,
     "metadata": {},
     "output_type": "execute_result"
    }
   ],
   "source": [
    "conn = sqlite3.connect(\"petsdb\")\n",
    "is_open(conn)"
   ]
  },
  {
   "cell_type": "code",
   "execution_count": 110,
   "metadata": {},
   "outputs": [
    {
     "name": "stdout",
     "output_type": "stream",
     "text": [
      "Connection closed. Cannot operate on a closed database.\n",
      "False\n"
     ]
    }
   ],
   "source": [
    "conn.close()\n",
    "is_open(conn)"
   ]
  },
  {
   "cell_type": "markdown",
   "metadata": {},
   "source": [
    "### Task 2 (2 marks)\n",
    "\n",
    "Now connect to the provided database __petsDB__ once again and retrieve the names of all the tables from the database as a list of tuples. Also retrieve the column names for all the tables as a list of strings. The outputs should look as follows respectively:"
   ]
  },
  {
   "cell_type": "markdown",
   "metadata": {
    "slideshow": {
     "slide_type": "fragment"
    }
   },
   "source": [
    "    The names of the tables in the database are as follows:\n",
    "\n",
    "    [('persons',), ('pets',)]\n",
    "\n",
    "    The names of the columns in the table 'persons' are as follows:\n",
    "\n",
    "    ['Id', 'First Name', 'Last Name', 'Age', 'City', 'Zip Code']:\n",
    "\n",
    "    The first 5 rows in the table 'persons' are as follows:\n",
    "    \n",
    "    [(1, 'Erica', None, 22, 'south port', 2345678),\n",
    "     (2, 'Jordi', None, 73, 'east port', 123456),\n",
    "     (3, 'Chasity', None, 70, 'new port', 76856785),\n",
    "     (4, 'Gregg', None, 31, 'new port', 76856785),\n",
    "     (5, 'Tony', 'Lindgren', 7, 'west port', 2345678)]\n",
    "     \n",
    "    The names of the columns in the table 'pets' are as follows:\n",
    "\n",
    "    ['Owner Id', 'Pet Name', 'Pet Type', 'Treatment Done']:\n",
    "\n",
    "    The first 5 rows in the table 'pets' are as follows:\n",
    "    \n",
    "    [(57, 'mani', 1.0, 0),\n",
    "     (80, 'tamari', None, 0),\n",
    "     (25, 'raba', None, 0),\n",
    "     (27, 'olga', None, 0),\n",
    "     (60, 'raba', None, 0)]"
   ]
  },
  {
   "cell_type": "markdown",
   "metadata": {},
   "source": [
    "<u>Hint:</u> Use __sqlite_master WHERE__ ... You would also need to use list comprehension along with the string __join__ method and __map__ function so that the names of columns ('Id', 'First Name' etc) are in title case and separated by a space instead of lower case and separated by hyphens (which is the case with the names coming from the database)."
   ]
  },
  {
   "cell_type": "code",
   "execution_count": 111,
   "metadata": {},
   "outputs": [],
   "source": [
    "### Write your code below this comment.\n",
    "def to_title(name):\n",
    "  return name.replace('_',' ').title()"
   ]
  },
  {
   "cell_type": "code",
   "execution_count": 112,
   "metadata": {},
   "outputs": [
    {
     "name": "stdout",
     "output_type": "stream",
     "text": [
      "The names of the tables in the database are as follows:\n",
      " \n",
      "[('persons',), ('pets',)]\n",
      "\n",
      "The names of the columns in the table 'persons' are as follows: \n",
      " \n",
      "['Id', 'First Name', 'Last Name', 'Age', 'City', 'Zip Code']\n",
      "\n",
      "The first 5 rows in the table 'persons' are as follows:\n",
      " \n",
      "(1, 'Erica', None, 22, 'south port', 2345678),\n",
      "(2, 'Jordi', None, 73, 'east port', 123456),\n",
      "(3, 'Chasity', None, 70, 'new port', 76856785),\n",
      "(4, 'Gregg', None, 31, 'new port', 76856785),\n",
      "(5, 'Tony', 'Lindgren', 7, 'west port', 2345678)\n",
      "\n",
      "The names of the columns in the table 'pets' are as follows: \n",
      " \n",
      "['Owner Id', 'Pet Name', 'Pet Type', 'Treatment Done']\n",
      "\n",
      "The first 5 rows in the table 'pets' are as follows:\n",
      " \n",
      "(57, 'mani', 1.0, 0),\n",
      "(80, 'tamari', None, 0),\n",
      "(25, 'raba', None, 0),\n",
      "(27, 'olga', None, 0),\n",
      "(60, 'raba', None, 0)\n"
     ]
    }
   ],
   "source": [
    "conn = sqlite3.connect(\"petsdb\")\n",
    "cursor = conn.cursor()\n",
    "table_names = cursor.execute(\"SELECT name FROM sqlite_schema WHERE type='table' AND name NOT LIKE 'sqlite_%'\")\n",
    "print('The names of the tables in the database are as follows:\\n \\n', table_names.fetchall(),sep='')\n",
    "\n",
    "# persons table\n",
    "persons_cursor  = cursor.execute(\"SELECT * FROM persons\")\n",
    "persons_columns = [to_title(column[0]) for column in persons_cursor.description]\n",
    "print(\"\\nThe names of the columns in the table 'persons' are as follows: \\n \\n\", persons_columns, sep='')\n",
    "persons_data = persons_cursor.fetchall()\n",
    "print(\"\\nThe first 5 rows in the table 'persons' are as follows:\\n \\n\", ',\\n'.join(map(str,persons_data[0:5])), sep='')\n",
    "\n",
    "# pets table\n",
    "pets_cursor = cursor.execute(\"SELECT * FROM pets\")\n",
    "pets_columns = [to_title(column[0]) for column in pets_cursor.description]\n",
    "print(\"\\nThe names of the columns in the table 'pets' are as follows: \\n \\n\", pets_columns, sep='')\n",
    "pets_data = pets_cursor.fetchall()\n",
    "print(\"\\nThe first 5 rows in the table 'pets' are as follows:\\n \\n\", ',\\n'.join(map(str,pets_data[0:5])), sep='')\n"
   ]
  },
  {
   "cell_type": "markdown",
   "metadata": {},
   "source": [
    "### Task 3 (2 marks)\n",
    "\n",
    "Now transform the tables __persons__ and __pets__ into two Dataframes named __df_persons__ and __df_pets__ respectively, so that you can go ahead with the tasks to follow."
   ]
  },
  {
   "cell_type": "code",
   "execution_count": 113,
   "metadata": {},
   "outputs": [
    {
     "data": {
      "text/html": [
       "<div>\n",
       "<style scoped>\n",
       "    .dataframe tbody tr th:only-of-type {\n",
       "        vertical-align: middle;\n",
       "    }\n",
       "\n",
       "    .dataframe tbody tr th {\n",
       "        vertical-align: top;\n",
       "    }\n",
       "\n",
       "    .dataframe thead th {\n",
       "        text-align: right;\n",
       "    }\n",
       "</style>\n",
       "<table border=\"1\" class=\"dataframe\">\n",
       "  <thead>\n",
       "    <tr style=\"text-align: right;\">\n",
       "      <th></th>\n",
       "      <th>Id</th>\n",
       "      <th>First Name</th>\n",
       "      <th>Last Name</th>\n",
       "      <th>Age</th>\n",
       "      <th>City</th>\n",
       "      <th>Zip Code</th>\n",
       "    </tr>\n",
       "  </thead>\n",
       "  <tbody>\n",
       "    <tr>\n",
       "      <th>0</th>\n",
       "      <td>1</td>\n",
       "      <td>Erica</td>\n",
       "      <td>None</td>\n",
       "      <td>22</td>\n",
       "      <td>south port</td>\n",
       "      <td>2345678</td>\n",
       "    </tr>\n",
       "    <tr>\n",
       "      <th>1</th>\n",
       "      <td>2</td>\n",
       "      <td>Jordi</td>\n",
       "      <td>None</td>\n",
       "      <td>73</td>\n",
       "      <td>east port</td>\n",
       "      <td>123456</td>\n",
       "    </tr>\n",
       "    <tr>\n",
       "      <th>2</th>\n",
       "      <td>3</td>\n",
       "      <td>Chasity</td>\n",
       "      <td>None</td>\n",
       "      <td>70</td>\n",
       "      <td>new port</td>\n",
       "      <td>76856785</td>\n",
       "    </tr>\n",
       "    <tr>\n",
       "      <th>3</th>\n",
       "      <td>4</td>\n",
       "      <td>Gregg</td>\n",
       "      <td>None</td>\n",
       "      <td>31</td>\n",
       "      <td>new port</td>\n",
       "      <td>76856785</td>\n",
       "    </tr>\n",
       "    <tr>\n",
       "      <th>4</th>\n",
       "      <td>5</td>\n",
       "      <td>Tony</td>\n",
       "      <td>Lindgren</td>\n",
       "      <td>7</td>\n",
       "      <td>west port</td>\n",
       "      <td>2345678</td>\n",
       "    </tr>\n",
       "    <tr>\n",
       "      <th>...</th>\n",
       "      <td>...</td>\n",
       "      <td>...</td>\n",
       "      <td>...</td>\n",
       "      <td>...</td>\n",
       "      <td>...</td>\n",
       "      <td>...</td>\n",
       "    </tr>\n",
       "    <tr>\n",
       "      <th>95</th>\n",
       "      <td>96</td>\n",
       "      <td>Ernesto</td>\n",
       "      <td>None</td>\n",
       "      <td>69</td>\n",
       "      <td>east port</td>\n",
       "      <td>9756543</td>\n",
       "    </tr>\n",
       "    <tr>\n",
       "      <th>96</th>\n",
       "      <td>97</td>\n",
       "      <td>Josianne</td>\n",
       "      <td>None</td>\n",
       "      <td>14</td>\n",
       "      <td>west port</td>\n",
       "      <td>76856785</td>\n",
       "    </tr>\n",
       "    <tr>\n",
       "      <th>97</th>\n",
       "      <td>98</td>\n",
       "      <td>Hilma</td>\n",
       "      <td>Waelchi</td>\n",
       "      <td>48</td>\n",
       "      <td>east port</td>\n",
       "      <td>9756543</td>\n",
       "    </tr>\n",
       "    <tr>\n",
       "      <th>98</th>\n",
       "      <td>99</td>\n",
       "      <td>Otilia</td>\n",
       "      <td>Gleason</td>\n",
       "      <td>66</td>\n",
       "      <td>new port</td>\n",
       "      <td>9756543</td>\n",
       "    </tr>\n",
       "    <tr>\n",
       "      <th>99</th>\n",
       "      <td>100</td>\n",
       "      <td>Adrian</td>\n",
       "      <td>Schinner</td>\n",
       "      <td>5</td>\n",
       "      <td>south port</td>\n",
       "      <td>76856785</td>\n",
       "    </tr>\n",
       "  </tbody>\n",
       "</table>\n",
       "<p>100 rows × 6 columns</p>\n",
       "</div>"
      ],
      "text/plain": [
       "     Id First Name Last Name  Age        City  Zip Code\n",
       "0     1      Erica      None   22  south port   2345678\n",
       "1     2      Jordi      None   73   east port    123456\n",
       "2     3    Chasity      None   70    new port  76856785\n",
       "3     4      Gregg      None   31    new port  76856785\n",
       "4     5       Tony  Lindgren    7   west port   2345678\n",
       "..  ...        ...       ...  ...         ...       ...\n",
       "95   96    Ernesto      None   69   east port   9756543\n",
       "96   97   Josianne      None   14   west port  76856785\n",
       "97   98      Hilma   Waelchi   48   east port   9756543\n",
       "98   99     Otilia   Gleason   66    new port   9756543\n",
       "99  100     Adrian  Schinner    5  south port  76856785\n",
       "\n",
       "[100 rows x 6 columns]"
      ]
     },
     "execution_count": 113,
     "metadata": {},
     "output_type": "execute_result"
    }
   ],
   "source": [
    "### Write your code below this comment.\n",
    "import pandas as pd\n",
    "df_persons = pd.DataFrame(persons_data, columns=persons_columns)\n",
    "df_pets = pd.DataFrame(pets_data, columns=pets_columns)\n",
    "df_persons"
   ]
  },
  {
   "cell_type": "markdown",
   "metadata": {},
   "source": [
    "### Task 4 (2 marks)\n",
    "\n",
    "Consider the following question:\n",
    "\n",
    "__What are counts for each unique age group in the persons database?__\n",
    "\n",
    "Answer this question using a SQL query from the database (save it as __sql_4__) as well as using the Dataframe __df_persons__ you created in Task 3 above.\n",
    "\n",
    "The SQL query should return a list of tuples named __rows__ which you should then use to create a Dataframe named __df_sql__ with an index column named `'Age'` and another column named `'Counts'`. The Dataframe should look as follows:"
   ]
  },
  {
   "cell_type": "markdown",
   "metadata": {
    "slideshow": {
     "slide_type": "fragment"
    }
   },
   "source": [
    "<img align=left src=\"images/df_sql_res4.png\" height=\"105\" width=\"105\">"
   ]
  },
  {
   "cell_type": "markdown",
   "metadata": {},
   "source": [
    "Similarly, also use methods from __pandas__ in conjunction with the Dataframe __df_persons__ to mimic your SQL query and create another Dataframe named __df_pd__ which looks exactly the same as the Dataframe __df_sql__ shown above."
   ]
  },
  {
   "cell_type": "code",
   "execution_count": 114,
   "metadata": {},
   "outputs": [
    {
     "data": {
      "text/html": [
       "<div>\n",
       "<style scoped>\n",
       "    .dataframe tbody tr th:only-of-type {\n",
       "        vertical-align: middle;\n",
       "    }\n",
       "\n",
       "    .dataframe tbody tr th {\n",
       "        vertical-align: top;\n",
       "    }\n",
       "\n",
       "    .dataframe thead th {\n",
       "        text-align: right;\n",
       "    }\n",
       "</style>\n",
       "<table border=\"1\" class=\"dataframe\">\n",
       "  <thead>\n",
       "    <tr style=\"text-align: right;\">\n",
       "      <th></th>\n",
       "      <th>Counts</th>\n",
       "    </tr>\n",
       "    <tr>\n",
       "      <th>Age</th>\n",
       "      <th></th>\n",
       "    </tr>\n",
       "  </thead>\n",
       "  <tbody>\n",
       "    <tr>\n",
       "      <th>5</th>\n",
       "      <td>2</td>\n",
       "    </tr>\n",
       "    <tr>\n",
       "      <th>6</th>\n",
       "      <td>1</td>\n",
       "    </tr>\n",
       "    <tr>\n",
       "      <th>7</th>\n",
       "      <td>1</td>\n",
       "    </tr>\n",
       "    <tr>\n",
       "      <th>8</th>\n",
       "      <td>3</td>\n",
       "    </tr>\n",
       "    <tr>\n",
       "      <th>9</th>\n",
       "      <td>1</td>\n",
       "    </tr>\n",
       "  </tbody>\n",
       "</table>\n",
       "</div>"
      ],
      "text/plain": [
       "     Counts\n",
       "Age        \n",
       "5         2\n",
       "6         1\n",
       "7         1\n",
       "8         3\n",
       "9         1"
      ]
     },
     "execution_count": 114,
     "metadata": {},
     "output_type": "execute_result"
    }
   ],
   "source": [
    "### Write your code below this comment.\n",
    "sql_4 = cursor.execute(\"SELECT age, count(age) FROM persons GROUP BY age\").fetchall()\n",
    "df_sql = pd.DataFrame(sql_4, columns = ['Age', 'Counts'])\n",
    "df_sql.set_index('Age', inplace=True)\n",
    "df_sql.head()"
   ]
  },
  {
   "cell_type": "code",
   "execution_count": 115,
   "metadata": {},
   "outputs": [
    {
     "data": {
      "text/html": [
       "<div>\n",
       "<style scoped>\n",
       "    .dataframe tbody tr th:only-of-type {\n",
       "        vertical-align: middle;\n",
       "    }\n",
       "\n",
       "    .dataframe tbody tr th {\n",
       "        vertical-align: top;\n",
       "    }\n",
       "\n",
       "    .dataframe thead th {\n",
       "        text-align: right;\n",
       "    }\n",
       "</style>\n",
       "<table border=\"1\" class=\"dataframe\">\n",
       "  <thead>\n",
       "    <tr style=\"text-align: right;\">\n",
       "      <th></th>\n",
       "      <th>Counts</th>\n",
       "    </tr>\n",
       "    <tr>\n",
       "      <th>Age</th>\n",
       "      <th></th>\n",
       "    </tr>\n",
       "  </thead>\n",
       "  <tbody>\n",
       "    <tr>\n",
       "      <th>5</th>\n",
       "      <td>2</td>\n",
       "    </tr>\n",
       "    <tr>\n",
       "      <th>6</th>\n",
       "      <td>1</td>\n",
       "    </tr>\n",
       "    <tr>\n",
       "      <th>7</th>\n",
       "      <td>1</td>\n",
       "    </tr>\n",
       "    <tr>\n",
       "      <th>8</th>\n",
       "      <td>3</td>\n",
       "    </tr>\n",
       "    <tr>\n",
       "      <th>9</th>\n",
       "      <td>1</td>\n",
       "    </tr>\n",
       "  </tbody>\n",
       "</table>\n",
       "</div>"
      ],
      "text/plain": [
       "     Counts\n",
       "Age        \n",
       "5         2\n",
       "6         1\n",
       "7         1\n",
       "8         3\n",
       "9         1"
      ]
     },
     "execution_count": 115,
     "metadata": {},
     "output_type": "execute_result"
    }
   ],
   "source": [
    "df_pd = df_persons.groupby('Age')[['Age']].size().reset_index(name='Counts').set_index('Age')\n",
    "df_pd.head()"
   ]
  },
  {
   "cell_type": "markdown",
   "metadata": {},
   "source": [
    "Now answer the following question:\n",
    "\n",
    "What similarities / differences did you find between the SQL query you wrote and saved as __sql_4__ and the code you used to create the Dataframe __df_pd__?"
   ]
  },
  {
   "cell_type": "markdown",
   "metadata": {},
   "source": [
    "__Answer__: What I found similar was that even though the function names are syntactically different (GROUP BY for SQL and groupby for python) the approach is the same, you first have to group the data set by age, and then apply an aggregation function which in the case of SQL was count, and for python was size (a difference). The selection process is easier to undestand in SQL (just SELECT column_name) whereas in python we have to do indexing. "
   ]
  },
  {
   "cell_type": "markdown",
   "metadata": {},
   "source": [
    "### Task 5 (2 marks)\n",
    "\n",
    "Consider the following question:\n",
    "\n",
    "__How many pets are there from the city called \"east port\"?__\n",
    "\n",
    "Answer this question using a SQL query from the database (save it as __sql_5__). Also use methods from __pandas__ in conjunction with the Dataframes __df_persons__ and __df_pets__ you created in Task 3 above to mimic your SQL query. Save the joined Dataframe as __df_pd_join__.\n",
    "\n",
    "In both cases, the output is a number."
   ]
  },
  {
   "cell_type": "code",
   "execution_count": 116,
   "metadata": {},
   "outputs": [
    {
     "data": {
      "text/plain": [
       "49"
      ]
     },
     "execution_count": 116,
     "metadata": {},
     "output_type": "execute_result"
    }
   ],
   "source": [
    "### Write your code below this comment.\n",
    "sql_5 = [row for row in cursor.execute(\"SELECT COUNT(pets.pet_name) FROM pets INNER JOIN persons ON pets.owner_id=persons.id GROUP BY persons.city HAVING city = 'east port'\")][0][0]\n",
    "sql_5"
   ]
  },
  {
   "cell_type": "code",
   "execution_count": 117,
   "metadata": {},
   "outputs": [
    {
     "data": {
      "text/plain": [
       "City\n",
       "east port    49\n",
       "Name: Pet Name, dtype: int64"
      ]
     },
     "execution_count": 117,
     "metadata": {},
     "output_type": "execute_result"
    }
   ],
   "source": [
    "df_pd_join = df_pets.merge(df_persons, how='right', left_on=df_pets['Owner Id'], right_on=df_persons['Id'])\n",
    "\n",
    "df_pd_join[df_pd_join['City']=='east port'].groupby('City')['Pet Name'].count()"
   ]
  },
  {
   "cell_type": "markdown",
   "metadata": {},
   "source": [
    "Now answer the following question:\n",
    "\n",
    "What similarities / differences did you find between the SQL query you wrote and saved as __sql_5__ and the code you used to create the Dataframe __df_pd_join__?"
   ]
  },
  {
   "cell_type": "markdown",
   "metadata": {},
   "source": [
    "__Answer__: Same as the last question, what I found similar was the approach. With the SQL query we join the tables, group by city, filter the wanted city and apply the aggregation function count to the desired columns. Similar approach is taken with python, with a little more complicated code. We join the tables, then apply a conditional filter to select the wanted city, group by city and apply the aggregation function count.\n",
    "\n",
    "SQL is overall easier to access and extract data, whereas python has much more powerful functionalities that make it easier to analyze and manipulate data."
   ]
  },
  {
   "cell_type": "code",
   "execution_count": 118,
   "metadata": {},
   "outputs": [
    {
     "name": "stdout",
     "output_type": "stream",
     "text": [
      "Connection closed. Cannot operate on a closed database.\n",
      "False\n"
     ]
    }
   ],
   "source": [
    "conn.close()\n",
    "is_open(conn)"
   ]
  }
 ],
 "metadata": {
  "kernelspec": {
   "display_name": "Python 3 (ipykernel)",
   "language": "python",
   "name": "python3"
  },
  "language_info": {
   "codemirror_mode": {
    "name": "ipython",
    "version": 3
   },
   "file_extension": ".py",
   "mimetype": "text/x-python",
   "name": "python",
   "nbconvert_exporter": "python",
   "pygments_lexer": "ipython3",
   "version": "3.9.7"
  }
 },
 "nbformat": 4,
 "nbformat_minor": 2
}
