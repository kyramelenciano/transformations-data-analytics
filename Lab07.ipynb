{
 "cells": [
  {
   "cell_type": "markdown",
   "metadata": {},
   "source": [
    "# Lab 06 - Subsetting, Filtering, and Grouping Data"
   ]
  },
  {
   "cell_type": "markdown",
   "metadata": {},
   "source": [
    "Complete the tasks listed below. You can submit the completed lab until 11:59 PM in the night."
   ]
  },
  {
   "cell_type": "markdown",
   "metadata": {},
   "source": [
    "<u>Requirement:</u><br>\n",
    "Do your best to write Pythonic code instead of the traditional programming code."
   ]
  },
  {
   "cell_type": "markdown",
   "metadata": {},
   "source": [
    "### Task 1 (0.5 mark)\n",
    "\n",
    "Import the necessary libraries, read the data __thanksgiving_w_age_income.csv__ from the __data__ folder, and display the first five rows of your dataset. Also get the indices for the following columns programmatically before proceeding further:\n",
    "\n",
    "```Do you typically have gravy?\"```\n",
    "\n",
    "```Have you ever tried to meet up with hometown friends on Thanksgiving night?```\n",
    "\n",
    "```Have you ever attended a \"Friendsgiving?\"```\n",
    "\n",
    "You are required to use only the indices for the above columns going forward."
   ]
  },
  {
   "cell_type": "code",
   "execution_count": 1,
   "metadata": {},
   "outputs": [
    {
     "data": {
      "text/html": [
       "<div>\n",
       "<style scoped>\n",
       "    .dataframe tbody tr th:only-of-type {\n",
       "        vertical-align: middle;\n",
       "    }\n",
       "\n",
       "    .dataframe tbody tr th {\n",
       "        vertical-align: top;\n",
       "    }\n",
       "\n",
       "    .dataframe thead th {\n",
       "        text-align: right;\n",
       "    }\n",
       "</style>\n",
       "<table border=\"1\" class=\"dataframe\">\n",
       "  <thead>\n",
       "    <tr style=\"text-align: right;\">\n",
       "      <th></th>\n",
       "      <th>Unnamed: 0</th>\n",
       "      <th>RespondentID</th>\n",
       "      <th>Do you celebrate Thanksgiving?</th>\n",
       "      <th>What is typically the main dish at your Thanksgiving dinner?</th>\n",
       "      <th>What is typically the main dish at your Thanksgiving dinner? - Other (please specify)</th>\n",
       "      <th>How is the main dish typically cooked?</th>\n",
       "      <th>How is the main dish typically cooked? - Other (please specify)</th>\n",
       "      <th>What kind of stuffing/dressing do you typically have?</th>\n",
       "      <th>What kind of stuffing/dressing do you typically have? - Other (please specify)</th>\n",
       "      <th>What type of cranberry saucedo you typically have?</th>\n",
       "      <th>...</th>\n",
       "      <th>Will you shop any Black Friday sales on Thanksgiving Day?</th>\n",
       "      <th>Do you work in retail?</th>\n",
       "      <th>Will you employer make you work on Black Friday?</th>\n",
       "      <th>How would you describe where you live?</th>\n",
       "      <th>Age</th>\n",
       "      <th>What is your gender?</th>\n",
       "      <th>How much total combined money did all members of your HOUSEHOLD earn last year?</th>\n",
       "      <th>US Region</th>\n",
       "      <th>int_age</th>\n",
       "      <th>int_income</th>\n",
       "    </tr>\n",
       "  </thead>\n",
       "  <tbody>\n",
       "    <tr>\n",
       "      <th>0</th>\n",
       "      <td>0</td>\n",
       "      <td>4337954960</td>\n",
       "      <td>Yes</td>\n",
       "      <td>Turkey</td>\n",
       "      <td>NaN</td>\n",
       "      <td>Baked</td>\n",
       "      <td>NaN</td>\n",
       "      <td>Bread-based</td>\n",
       "      <td>NaN</td>\n",
       "      <td>None</td>\n",
       "      <td>...</td>\n",
       "      <td>No</td>\n",
       "      <td>No</td>\n",
       "      <td>NaN</td>\n",
       "      <td>Suburban</td>\n",
       "      <td>18 - 29</td>\n",
       "      <td>Male</td>\n",
       "      <td>$75,000 to $99,999</td>\n",
       "      <td>Middle Atlantic</td>\n",
       "      <td>18.0</td>\n",
       "      <td>75000.0</td>\n",
       "    </tr>\n",
       "    <tr>\n",
       "      <th>1</th>\n",
       "      <td>1</td>\n",
       "      <td>4337951949</td>\n",
       "      <td>Yes</td>\n",
       "      <td>Turkey</td>\n",
       "      <td>NaN</td>\n",
       "      <td>Baked</td>\n",
       "      <td>NaN</td>\n",
       "      <td>Bread-based</td>\n",
       "      <td>NaN</td>\n",
       "      <td>Other (please specify)</td>\n",
       "      <td>...</td>\n",
       "      <td>Yes</td>\n",
       "      <td>No</td>\n",
       "      <td>NaN</td>\n",
       "      <td>Rural</td>\n",
       "      <td>18 - 29</td>\n",
       "      <td>Female</td>\n",
       "      <td>$50,000 to $74,999</td>\n",
       "      <td>East South Central</td>\n",
       "      <td>18.0</td>\n",
       "      <td>50000.0</td>\n",
       "    </tr>\n",
       "    <tr>\n",
       "      <th>2</th>\n",
       "      <td>2</td>\n",
       "      <td>4337935621</td>\n",
       "      <td>Yes</td>\n",
       "      <td>Turkey</td>\n",
       "      <td>NaN</td>\n",
       "      <td>Roasted</td>\n",
       "      <td>NaN</td>\n",
       "      <td>Rice-based</td>\n",
       "      <td>NaN</td>\n",
       "      <td>Homemade</td>\n",
       "      <td>...</td>\n",
       "      <td>Yes</td>\n",
       "      <td>No</td>\n",
       "      <td>NaN</td>\n",
       "      <td>Suburban</td>\n",
       "      <td>18 - 29</td>\n",
       "      <td>Male</td>\n",
       "      <td>$0 to $9,999</td>\n",
       "      <td>Mountain</td>\n",
       "      <td>18.0</td>\n",
       "      <td>0.0</td>\n",
       "    </tr>\n",
       "    <tr>\n",
       "      <th>3</th>\n",
       "      <td>3</td>\n",
       "      <td>4337933040</td>\n",
       "      <td>Yes</td>\n",
       "      <td>Turkey</td>\n",
       "      <td>NaN</td>\n",
       "      <td>Baked</td>\n",
       "      <td>NaN</td>\n",
       "      <td>Bread-based</td>\n",
       "      <td>NaN</td>\n",
       "      <td>Homemade</td>\n",
       "      <td>...</td>\n",
       "      <td>No</td>\n",
       "      <td>No</td>\n",
       "      <td>NaN</td>\n",
       "      <td>Urban</td>\n",
       "      <td>30 - 44</td>\n",
       "      <td>Male</td>\n",
       "      <td>$200,000 and up</td>\n",
       "      <td>Pacific</td>\n",
       "      <td>30.0</td>\n",
       "      <td>200000.0</td>\n",
       "    </tr>\n",
       "    <tr>\n",
       "      <th>4</th>\n",
       "      <td>4</td>\n",
       "      <td>4337931983</td>\n",
       "      <td>Yes</td>\n",
       "      <td>Tofurkey</td>\n",
       "      <td>NaN</td>\n",
       "      <td>Baked</td>\n",
       "      <td>NaN</td>\n",
       "      <td>Bread-based</td>\n",
       "      <td>NaN</td>\n",
       "      <td>Canned</td>\n",
       "      <td>...</td>\n",
       "      <td>No</td>\n",
       "      <td>No</td>\n",
       "      <td>NaN</td>\n",
       "      <td>Urban</td>\n",
       "      <td>30 - 44</td>\n",
       "      <td>Male</td>\n",
       "      <td>$100,000 to $124,999</td>\n",
       "      <td>Pacific</td>\n",
       "      <td>30.0</td>\n",
       "      <td>100000.0</td>\n",
       "    </tr>\n",
       "  </tbody>\n",
       "</table>\n",
       "<p>5 rows × 68 columns</p>\n",
       "</div>"
      ],
      "text/plain": [
       "   Unnamed: 0  RespondentID Do you celebrate Thanksgiving?  \\\n",
       "0           0    4337954960                            Yes   \n",
       "1           1    4337951949                            Yes   \n",
       "2           2    4337935621                            Yes   \n",
       "3           3    4337933040                            Yes   \n",
       "4           4    4337931983                            Yes   \n",
       "\n",
       "  What is typically the main dish at your Thanksgiving dinner?  \\\n",
       "0                                             Turkey             \n",
       "1                                             Turkey             \n",
       "2                                             Turkey             \n",
       "3                                             Turkey             \n",
       "4                                           Tofurkey             \n",
       "\n",
       "  What is typically the main dish at your Thanksgiving dinner? - Other (please specify)  \\\n",
       "0                                                NaN                                      \n",
       "1                                                NaN                                      \n",
       "2                                                NaN                                      \n",
       "3                                                NaN                                      \n",
       "4                                                NaN                                      \n",
       "\n",
       "  How is the main dish typically cooked?  \\\n",
       "0                                  Baked   \n",
       "1                                  Baked   \n",
       "2                                Roasted   \n",
       "3                                  Baked   \n",
       "4                                  Baked   \n",
       "\n",
       "  How is the main dish typically cooked? - Other (please specify)  \\\n",
       "0                                                NaN                \n",
       "1                                                NaN                \n",
       "2                                                NaN                \n",
       "3                                                NaN                \n",
       "4                                                NaN                \n",
       "\n",
       "  What kind of stuffing/dressing do you typically have?  \\\n",
       "0                                        Bread-based      \n",
       "1                                        Bread-based      \n",
       "2                                         Rice-based      \n",
       "3                                        Bread-based      \n",
       "4                                        Bread-based      \n",
       "\n",
       "  What kind of stuffing/dressing do you typically have? - Other (please specify)  \\\n",
       "0                                                NaN                               \n",
       "1                                                NaN                               \n",
       "2                                                NaN                               \n",
       "3                                                NaN                               \n",
       "4                                                NaN                               \n",
       "\n",
       "  What type of cranberry saucedo you typically have?  ...  \\\n",
       "0                                               None  ...   \n",
       "1                             Other (please specify)  ...   \n",
       "2                                           Homemade  ...   \n",
       "3                                           Homemade  ...   \n",
       "4                                             Canned  ...   \n",
       "\n",
       "  Will you shop any Black Friday sales on Thanksgiving Day?  \\\n",
       "0                                                 No          \n",
       "1                                                Yes          \n",
       "2                                                Yes          \n",
       "3                                                 No          \n",
       "4                                                 No          \n",
       "\n",
       "  Do you work in retail? Will you employer make you work on Black Friday?  \\\n",
       "0                     No                                              NaN   \n",
       "1                     No                                              NaN   \n",
       "2                     No                                              NaN   \n",
       "3                     No                                              NaN   \n",
       "4                     No                                              NaN   \n",
       "\n",
       "  How would you describe where you live?      Age What is your gender?  \\\n",
       "0                               Suburban  18 - 29                 Male   \n",
       "1                                  Rural  18 - 29               Female   \n",
       "2                               Suburban  18 - 29                 Male   \n",
       "3                                  Urban  30 - 44                 Male   \n",
       "4                                  Urban  30 - 44                 Male   \n",
       "\n",
       "  How much total combined money did all members of your HOUSEHOLD earn last year?  \\\n",
       "0                                 $75,000 to $99,999                                \n",
       "1                                 $50,000 to $74,999                                \n",
       "2                                       $0 to $9,999                                \n",
       "3                                    $200,000 and up                                \n",
       "4                               $100,000 to $124,999                                \n",
       "\n",
       "            US Region int_age int_income  \n",
       "0     Middle Atlantic    18.0    75000.0  \n",
       "1  East South Central    18.0    50000.0  \n",
       "2            Mountain    18.0        0.0  \n",
       "3             Pacific    30.0   200000.0  \n",
       "4             Pacific    30.0   100000.0  \n",
       "\n",
       "[5 rows x 68 columns]"
      ]
     },
     "execution_count": 1,
     "metadata": {},
     "output_type": "execute_result"
    }
   ],
   "source": [
    "### Write your code below this comment.\n",
    "import numpy as np\n",
    "import pandas as pd\n",
    "pd.reset_option('display.max_columns')\n",
    "df = pd.read_csv('data/thanksgiving_w_age_income.csv')\n",
    "df.head(5)"
   ]
  },
  {
   "cell_type": "code",
   "execution_count": 2,
   "metadata": {},
   "outputs": [
    {
     "data": {
      "text/plain": [
       "[('Do you typically have gravy?', 11),\n",
       " ('Have you ever tried to meet up with hometown friends on Thanksgiving night?',\n",
       "  56),\n",
       " ('Have you ever attended a \"Friendsgiving?\"', 57)]"
      ]
     },
     "execution_count": 2,
     "metadata": {},
     "output_type": "execute_result"
    }
   ],
   "source": [
    "cols = ['Do you typically have gravy?', \n",
    "        'Have you ever tried to meet up with hometown friends on Thanksgiving night?',\n",
    "        'Have you ever attended a \"Friendsgiving?\"']\n",
    "[(c,df.columns.get_loc(c)) for c in cols if c in df]\n"
   ]
  },
  {
   "cell_type": "markdown",
   "metadata": {},
   "source": [
    "### Task 2 (0.5 mark)\n",
    "\n",
    "Can you use conditional selection and Boolean filtering to figure out the mean age of those who responded __'Yes'__ and __'No'__ to the following questions:\n",
    "\n",
    "```Have you ever tried to meet up with hometown friends on Thanksgiving night?```\n",
    "\n",
    "```Have you ever attended a \"Friendsgiving?\"```\n",
    "\n",
    "You should be getting the following answers for the different combinations:\n",
    "\n",
    "    'No' and 'No': 42.283702213279675\n",
    "\n",
    "    'No' and 'Yes': 37.01052631578948\n",
    "\n",
    "    'Yes' and 'No': 41.47540983606557\n",
    "\n",
    "    'Yes' and 'Yes': 33.97674418604651"
   ]
  },
  {
   "cell_type": "code",
   "execution_count": 3,
   "metadata": {},
   "outputs": [
    {
     "name": "stdout",
     "output_type": "stream",
     "text": [
      "'No' and 'No': 42.283702213279675 \n",
      "\n",
      "'No' and 'Yes': 37.01052631578948 \n",
      "\n",
      "'Yes' and 'No': 41.47540983606557 \n",
      "\n",
      "'Yes' and 'Yes': 33.97674418604651\n"
     ]
    }
   ],
   "source": [
    "### Write your code below this comment.\n",
    "print(\"'No' and 'No':\",df[(df.iloc[:,56]=='No') & (df.iloc[:,57]=='No')]['int_age'].mean(), '\\n')\n",
    "print(\"'No' and 'Yes':\",df[(df.iloc[:,56]=='No') & (df.iloc[:,57]=='Yes')]['int_age'].mean(), '\\n')\n",
    "print(\"'Yes' and 'No':\",df[(df.iloc[:,56]=='Yes') & (df.iloc[:,57]=='No')]['int_age'].mean(), '\\n')\n",
    "print(\"'Yes' and 'Yes':\",df[(df.iloc[:,56]=='Yes') & (df.iloc[:,57]=='Yes')]['int_age'].mean())"
   ]
  },
  {
   "cell_type": "markdown",
   "metadata": {},
   "source": [
    "### Task 3 (1 mark)\n",
    "\n",
    "Can you get the same results you got in __Task 2__ using a pivot table? A snapshot of the expected result is shown below."
   ]
  },
  {
   "cell_type": "markdown",
   "metadata": {
    "slideshow": {
     "slide_type": "fragment"
    }
   },
   "source": [
    "<img align=\"left\" src=\"images/task3.png\" height=\"600\" width=\"600\">"
   ]
  },
  {
   "cell_type": "code",
   "execution_count": 4,
   "metadata": {},
   "outputs": [
    {
     "data": {
      "text/html": [
       "<div>\n",
       "<style scoped>\n",
       "    .dataframe tbody tr th:only-of-type {\n",
       "        vertical-align: middle;\n",
       "    }\n",
       "\n",
       "    .dataframe tbody tr th {\n",
       "        vertical-align: top;\n",
       "    }\n",
       "\n",
       "    .dataframe thead th {\n",
       "        text-align: right;\n",
       "    }\n",
       "</style>\n",
       "<table border=\"1\" class=\"dataframe\">\n",
       "  <thead>\n",
       "    <tr style=\"text-align: right;\">\n",
       "      <th>Have you ever attended a \"Friendsgiving?\"</th>\n",
       "      <th>No</th>\n",
       "      <th>Yes</th>\n",
       "    </tr>\n",
       "    <tr>\n",
       "      <th>Have you ever tried to meet up with hometown friends on Thanksgiving night?</th>\n",
       "      <th></th>\n",
       "      <th></th>\n",
       "    </tr>\n",
       "  </thead>\n",
       "  <tbody>\n",
       "    <tr>\n",
       "      <th>No</th>\n",
       "      <td>42.283702</td>\n",
       "      <td>37.010526</td>\n",
       "    </tr>\n",
       "    <tr>\n",
       "      <th>Yes</th>\n",
       "      <td>41.475410</td>\n",
       "      <td>33.976744</td>\n",
       "    </tr>\n",
       "  </tbody>\n",
       "</table>\n",
       "</div>"
      ],
      "text/plain": [
       "Have you ever attended a \"Friendsgiving?\"                  No        Yes\n",
       "Have you ever tried to meet up with hometown fr...                      \n",
       "No                                                  42.283702  37.010526\n",
       "Yes                                                 41.475410  33.976744"
      ]
     },
     "execution_count": 4,
     "metadata": {},
     "output_type": "execute_result"
    }
   ],
   "source": [
    "### Write your code below this comment.\n",
    "df.pivot_table('int_age', index=[df.iloc[:,56]], columns=df.iloc[:,57])"
   ]
  },
  {
   "cell_type": "markdown",
   "metadata": {},
   "source": [
    "### Task 4 (1 mark)\n",
    "\n",
    "Can you get the same results you got in __Task 3__ using the __groupby__ method? A snapshot of the expected result is shown below."
   ]
  },
  {
   "cell_type": "markdown",
   "metadata": {
    "slideshow": {
     "slide_type": "fragment"
    }
   },
   "source": [
    "<img align=\"left\" src=\"images/task4.png\" height=\"800\" width=\"800\">"
   ]
  },
  {
   "cell_type": "code",
   "execution_count": 5,
   "metadata": {},
   "outputs": [
    {
     "data": {
      "text/html": [
       "<div>\n",
       "<style scoped>\n",
       "    .dataframe tbody tr th:only-of-type {\n",
       "        vertical-align: middle;\n",
       "    }\n",
       "\n",
       "    .dataframe tbody tr th {\n",
       "        vertical-align: top;\n",
       "    }\n",
       "\n",
       "    .dataframe thead th {\n",
       "        text-align: right;\n",
       "    }\n",
       "</style>\n",
       "<table border=\"1\" class=\"dataframe\">\n",
       "  <thead>\n",
       "    <tr style=\"text-align: right;\">\n",
       "      <th></th>\n",
       "      <th></th>\n",
       "      <th>int_age</th>\n",
       "    </tr>\n",
       "    <tr>\n",
       "      <th>Have you ever tried to meet up with hometown friends on Thanksgiving night?</th>\n",
       "      <th>Have you ever attended a \"Friendsgiving?\"</th>\n",
       "      <th></th>\n",
       "    </tr>\n",
       "  </thead>\n",
       "  <tbody>\n",
       "    <tr>\n",
       "      <th rowspan=\"2\" valign=\"top\">No</th>\n",
       "      <th>No</th>\n",
       "      <td>42.283702</td>\n",
       "    </tr>\n",
       "    <tr>\n",
       "      <th>Yes</th>\n",
       "      <td>37.010526</td>\n",
       "    </tr>\n",
       "    <tr>\n",
       "      <th rowspan=\"2\" valign=\"top\">Yes</th>\n",
       "      <th>No</th>\n",
       "      <td>41.475410</td>\n",
       "    </tr>\n",
       "    <tr>\n",
       "      <th>Yes</th>\n",
       "      <td>33.976744</td>\n",
       "    </tr>\n",
       "  </tbody>\n",
       "</table>\n",
       "</div>"
      ],
      "text/plain": [
       "                                                                                                int_age\n",
       "Have you ever tried to meet up with hometown fr... Have you ever attended a \"Friendsgiving?\"           \n",
       "No                                                 No                                         42.283702\n",
       "                                                   Yes                                        37.010526\n",
       "Yes                                                No                                         41.475410\n",
       "                                                   Yes                                        33.976744"
      ]
     },
     "execution_count": 5,
     "metadata": {},
     "output_type": "execute_result"
    }
   ],
   "source": [
    "### Write your code below this comment.\n",
    "df_grouped = df.groupby([df.iloc[:,56],df.iloc[:,57]])[['int_age']]\n",
    "df_grouped.mean()"
   ]
  },
  {
   "cell_type": "markdown",
   "metadata": {},
   "source": [
    "### Task 5 (0.5 mark)\n",
    "\n",
    "Can you get the same results you got in __Task 4__ using the __groupby__ method but also make the output look similar to the pivot table in __Task 3__? A snapshot of the expected result is shown below."
   ]
  },
  {
   "cell_type": "markdown",
   "metadata": {
    "slideshow": {
     "slide_type": "fragment"
    }
   },
   "source": [
    "<img align=\"left\" src=\"images/task5.png\" height=\"600\" width=\"600\">"
   ]
  },
  {
   "cell_type": "code",
   "execution_count": 6,
   "metadata": {},
   "outputs": [
    {
     "data": {
      "text/html": [
       "<div>\n",
       "<style scoped>\n",
       "    .dataframe tbody tr th:only-of-type {\n",
       "        vertical-align: middle;\n",
       "    }\n",
       "\n",
       "    .dataframe tbody tr th {\n",
       "        vertical-align: top;\n",
       "    }\n",
       "\n",
       "    .dataframe thead tr th {\n",
       "        text-align: left;\n",
       "    }\n",
       "\n",
       "    .dataframe thead tr:last-of-type th {\n",
       "        text-align: right;\n",
       "    }\n",
       "</style>\n",
       "<table border=\"1\" class=\"dataframe\">\n",
       "  <thead>\n",
       "    <tr>\n",
       "      <th></th>\n",
       "      <th colspan=\"2\" halign=\"left\">int_age</th>\n",
       "    </tr>\n",
       "    <tr>\n",
       "      <th>Have you ever attended a \"Friendsgiving?\"</th>\n",
       "      <th>No</th>\n",
       "      <th>Yes</th>\n",
       "    </tr>\n",
       "    <tr>\n",
       "      <th>Have you ever tried to meet up with hometown friends on Thanksgiving night?</th>\n",
       "      <th></th>\n",
       "      <th></th>\n",
       "    </tr>\n",
       "  </thead>\n",
       "  <tbody>\n",
       "    <tr>\n",
       "      <th>No</th>\n",
       "      <td>42.283702</td>\n",
       "      <td>37.010526</td>\n",
       "    </tr>\n",
       "    <tr>\n",
       "      <th>Yes</th>\n",
       "      <td>41.475410</td>\n",
       "      <td>33.976744</td>\n",
       "    </tr>\n",
       "  </tbody>\n",
       "</table>\n",
       "</div>"
      ],
      "text/plain": [
       "                                                      int_age           \n",
       "Have you ever attended a \"Friendsgiving?\"                  No        Yes\n",
       "Have you ever tried to meet up with hometown fr...                      \n",
       "No                                                  42.283702  37.010526\n",
       "Yes                                                 41.475410  33.976744"
      ]
     },
     "execution_count": 6,
     "metadata": {},
     "output_type": "execute_result"
    }
   ],
   "source": [
    "### Write your code below this comment.\n",
    "means = df[['int_age']].groupby([df.iloc[:,56],df.iloc[:,57]]).mean()\n",
    "means.unstack()"
   ]
  },
  {
   "cell_type": "markdown",
   "metadata": {},
   "source": [
    "### Task 6 (0.5 mark)\n",
    "\n",
    "Can you use conditional selection and Boolean filtering to figure out the group sizes of those who responded __'Yes'__ and __'No'__ to the following questions:\n",
    "\n",
    "```Have you ever tried to meet up with hometown friends on Thanksgiving night?```\n",
    "\n",
    "```Have you ever attended a \"Friendsgiving?\"```\n",
    "\n",
    "You should be getting the following answers for the different combinations:\n",
    "\n",
    "    'No' and 'No': 499\n",
    "\n",
    "    'No' and 'Yes': 95\n",
    "\n",
    "    'Yes' and 'No': 184\n",
    "\n",
    "    'Yes' and 'Yes': 173"
   ]
  },
  {
   "cell_type": "code",
   "execution_count": 7,
   "metadata": {},
   "outputs": [
    {
     "name": "stdout",
     "output_type": "stream",
     "text": [
      "'No' and 'No': 499 \n",
      "\n",
      "'No' and 'Yes': 95 \n",
      "\n",
      "'Yes' and 'No': 184 \n",
      "\n",
      "'Yes' and 'Yes': 173\n"
     ]
    }
   ],
   "source": [
    "### Write your code below this comment.\n",
    "print(\"'No' and 'No':\",len(df[(df.iloc[:,56]=='No') & (df.iloc[:,57]=='No')]), '\\n')\n",
    "print(\"'No' and 'Yes':\",len(df[(df.iloc[:,56]=='No') & (df.iloc[:,57]=='Yes')]), '\\n')\n",
    "print(\"'Yes' and 'No':\",len(df[(df.iloc[:,56]=='Yes') & (df.iloc[:,57]=='No')]), '\\n')\n",
    "print(\"'Yes' and 'Yes':\",len(df[(df.iloc[:,56]=='Yes') & (df.iloc[:,57]=='Yes')]))"
   ]
  },
  {
   "cell_type": "markdown",
   "metadata": {},
   "source": [
    "### Task 7 (1 mark)\n",
    "\n",
    "Can you use __groupby__ to get the group sizes of those who responded __'Yes'__ and __'No'__ to the following questions:\n",
    "\n",
    "```Have you ever tried to meet up with hometown friends on Thanksgiving night?```\n",
    "\n",
    "```Have you ever attended a \"Friendsgiving?\"```\n",
    "\n",
    "A snapshot of the expected result is shown below. Do your results tally with those you obtained in __Task 6__?"
   ]
  },
  {
   "cell_type": "markdown",
   "metadata": {
    "slideshow": {
     "slide_type": "fragment"
    }
   },
   "source": [
    "<img align=\"left\" src=\"images/task7.png\" height=\"530\" width=\"530\">"
   ]
  },
  {
   "cell_type": "code",
   "execution_count": 8,
   "metadata": {},
   "outputs": [
    {
     "data": {
      "text/html": [
       "<div>\n",
       "<style scoped>\n",
       "    .dataframe tbody tr th:only-of-type {\n",
       "        vertical-align: middle;\n",
       "    }\n",
       "\n",
       "    .dataframe tbody tr th {\n",
       "        vertical-align: top;\n",
       "    }\n",
       "\n",
       "    .dataframe thead th {\n",
       "        text-align: right;\n",
       "    }\n",
       "</style>\n",
       "<table border=\"1\" class=\"dataframe\">\n",
       "  <thead>\n",
       "    <tr style=\"text-align: right;\">\n",
       "      <th>Have you ever attended a \"Friendsgiving?\"</th>\n",
       "      <th>No</th>\n",
       "      <th>Yes</th>\n",
       "    </tr>\n",
       "    <tr>\n",
       "      <th>Have you ever tried to meet up with hometown friends on Thanksgiving night?</th>\n",
       "      <th></th>\n",
       "      <th></th>\n",
       "    </tr>\n",
       "  </thead>\n",
       "  <tbody>\n",
       "    <tr>\n",
       "      <th>No</th>\n",
       "      <td>499</td>\n",
       "      <td>95</td>\n",
       "    </tr>\n",
       "    <tr>\n",
       "      <th>Yes</th>\n",
       "      <td>184</td>\n",
       "      <td>173</td>\n",
       "    </tr>\n",
       "  </tbody>\n",
       "</table>\n",
       "</div>"
      ],
      "text/plain": [
       "Have you ever attended a \"Friendsgiving?\"            No  Yes\n",
       "Have you ever tried to meet up with hometown fr...          \n",
       "No                                                  499   95\n",
       "Yes                                                 184  173"
      ]
     },
     "execution_count": 8,
     "metadata": {},
     "output_type": "execute_result"
    }
   ],
   "source": [
    "### Write your code below this comment.\n",
    "df_grouped.size().unstack()"
   ]
  },
  {
   "cell_type": "markdown",
   "metadata": {},
   "source": [
    "### Task 8 (1 mark)\n",
    "\n",
    "Can you use __groupby__ to group your data columns by their data types?"
   ]
  },
  {
   "cell_type": "code",
   "execution_count": 9,
   "metadata": {},
   "outputs": [
    {
     "data": {
      "text/plain": [
       "int64       2\n",
       "float64     2\n",
       "object     64\n",
       "dtype: int64"
      ]
     },
     "execution_count": 9,
     "metadata": {},
     "output_type": "execute_result"
    }
   ],
   "source": [
    "### Write your code below this comment.\n",
    "grouped_type = df.groupby(df.dtypes, axis=1)\n",
    "grouped_type.size()"
   ]
  },
  {
   "cell_type": "markdown",
   "metadata": {},
   "source": [
    "### Task 9 (1 mark)\n",
    "\n",
    "Can you use __groupby__ to figure out the minimum, maximum, mean, and standard deviation for the ```int_age``` column for all those who responded __'Yes'__ and __'No'__ to the following questions:\n",
    "\n",
    "```Have you ever tried to meet up with hometown friends on Thanksgiving night?```\n",
    "\n",
    "```Have you ever attended a \"Friendsgiving?\"```\n",
    "\n",
    "A snapshot of the expected result is shown below."
   ]
  },
  {
   "cell_type": "markdown",
   "metadata": {
    "slideshow": {
     "slide_type": "fragment"
    }
   },
   "source": [
    "<img align=\"left\" src=\"images/task9.png\" height=\"900\" width=\"900\">"
   ]
  },
  {
   "cell_type": "code",
   "execution_count": 11,
   "metadata": {},
   "outputs": [
    {
     "data": {
      "text/html": [
       "<div>\n",
       "<style scoped>\n",
       "    .dataframe tbody tr th:only-of-type {\n",
       "        vertical-align: middle;\n",
       "    }\n",
       "\n",
       "    .dataframe tbody tr th {\n",
       "        vertical-align: top;\n",
       "    }\n",
       "\n",
       "    .dataframe thead tr th {\n",
       "        text-align: left;\n",
       "    }\n",
       "\n",
       "    .dataframe thead tr:last-of-type th {\n",
       "        text-align: right;\n",
       "    }\n",
       "</style>\n",
       "<table border=\"1\" class=\"dataframe\">\n",
       "  <thead>\n",
       "    <tr>\n",
       "      <th></th>\n",
       "      <th></th>\n",
       "      <th colspan=\"4\" halign=\"left\">int_age</th>\n",
       "    </tr>\n",
       "    <tr>\n",
       "      <th></th>\n",
       "      <th></th>\n",
       "      <th>min</th>\n",
       "      <th>max</th>\n",
       "      <th>mean</th>\n",
       "      <th>std</th>\n",
       "    </tr>\n",
       "    <tr>\n",
       "      <th>Have you ever tried to meet up with hometown friends on Thanksgiving night?</th>\n",
       "      <th>Have you ever attended a \"Friendsgiving?\"</th>\n",
       "      <th></th>\n",
       "      <th></th>\n",
       "      <th></th>\n",
       "      <th></th>\n",
       "    </tr>\n",
       "  </thead>\n",
       "  <tbody>\n",
       "    <tr>\n",
       "      <th rowspan=\"2\" valign=\"top\">No</th>\n",
       "      <th>No</th>\n",
       "      <td>18.0</td>\n",
       "      <td>60.0</td>\n",
       "      <td>42.283702</td>\n",
       "      <td>15.389630</td>\n",
       "    </tr>\n",
       "    <tr>\n",
       "      <th>Yes</th>\n",
       "      <td>18.0</td>\n",
       "      <td>60.0</td>\n",
       "      <td>37.010526</td>\n",
       "      <td>15.419313</td>\n",
       "    </tr>\n",
       "    <tr>\n",
       "      <th rowspan=\"2\" valign=\"top\">Yes</th>\n",
       "      <th>No</th>\n",
       "      <td>18.0</td>\n",
       "      <td>60.0</td>\n",
       "      <td>41.475410</td>\n",
       "      <td>14.449921</td>\n",
       "    </tr>\n",
       "    <tr>\n",
       "      <th>Yes</th>\n",
       "      <td>18.0</td>\n",
       "      <td>60.0</td>\n",
       "      <td>33.976744</td>\n",
       "      <td>14.319232</td>\n",
       "    </tr>\n",
       "  </tbody>\n",
       "</table>\n",
       "</div>"
      ],
      "text/plain": [
       "                                                                                             int_age  \\\n",
       "                                                                                                 min   \n",
       "Have you ever tried to meet up with hometown fr... Have you ever attended a \"Friendsgiving?\"           \n",
       "No                                                 No                                           18.0   \n",
       "                                                   Yes                                          18.0   \n",
       "Yes                                                No                                           18.0   \n",
       "                                                   Yes                                          18.0   \n",
       "\n",
       "                                                                                                    \\\n",
       "                                                                                               max   \n",
       "Have you ever tried to meet up with hometown fr... Have you ever attended a \"Friendsgiving?\"         \n",
       "No                                                 No                                         60.0   \n",
       "                                                   Yes                                        60.0   \n",
       "Yes                                                No                                         60.0   \n",
       "                                                   Yes                                        60.0   \n",
       "\n",
       "                                                                                                         \\\n",
       "                                                                                                   mean   \n",
       "Have you ever tried to meet up with hometown fr... Have you ever attended a \"Friendsgiving?\"              \n",
       "No                                                 No                                         42.283702   \n",
       "                                                   Yes                                        37.010526   \n",
       "Yes                                                No                                         41.475410   \n",
       "                                                   Yes                                        33.976744   \n",
       "\n",
       "                                                                                                         \n",
       "                                                                                                    std  \n",
       "Have you ever tried to meet up with hometown fr... Have you ever attended a \"Friendsgiving?\"             \n",
       "No                                                 No                                         15.389630  \n",
       "                                                   Yes                                        15.419313  \n",
       "Yes                                                No                                         14.449921  \n",
       "                                                   Yes                                        14.319232  "
      ]
     },
     "execution_count": 11,
     "metadata": {},
     "output_type": "execute_result"
    }
   ],
   "source": [
    "### Write your code below this comment.\n",
    "df_grouped.agg(['min','max','mean','std'])"
   ]
  },
  {
   "cell_type": "markdown",
   "metadata": {},
   "source": [
    "### Task 10 (1 mark)\n",
    "\n",
    "Can you use __groupby__ to figure out the minimum, maximum, and mean for the ```int_age``` column as well as the mean, median, and standard deviation for the ```int_income``` column for all those who responded __'Yes'__ and __'No'__ to the following questions:\n",
    "\n",
    "```Have you ever tried to meet up with hometown friends on Thanksgiving night?```\n",
    "\n",
    "```Have you ever attended a \"Friendsgiving?\"```\n",
    "\n",
    "A snapshot of the expected result is shown below."
   ]
  },
  {
   "cell_type": "markdown",
   "metadata": {
    "slideshow": {
     "slide_type": "fragment"
    }
   },
   "source": [
    "<img align=\"left\" src=\"images/task10.png\" height=\"950\" width=\"950\">"
   ]
  },
  {
   "cell_type": "code",
   "execution_count": 13,
   "metadata": {},
   "outputs": [
    {
     "data": {
      "text/html": [
       "<div>\n",
       "<style scoped>\n",
       "    .dataframe tbody tr th:only-of-type {\n",
       "        vertical-align: middle;\n",
       "    }\n",
       "\n",
       "    .dataframe tbody tr th {\n",
       "        vertical-align: top;\n",
       "    }\n",
       "\n",
       "    .dataframe thead tr th {\n",
       "        text-align: left;\n",
       "    }\n",
       "\n",
       "    .dataframe thead tr:last-of-type th {\n",
       "        text-align: right;\n",
       "    }\n",
       "</style>\n",
       "<table border=\"1\" class=\"dataframe\">\n",
       "  <thead>\n",
       "    <tr>\n",
       "      <th></th>\n",
       "      <th></th>\n",
       "      <th colspan=\"3\" halign=\"left\">int_age</th>\n",
       "      <th colspan=\"3\" halign=\"left\">int_income</th>\n",
       "    </tr>\n",
       "    <tr>\n",
       "      <th></th>\n",
       "      <th></th>\n",
       "      <th>min</th>\n",
       "      <th>max</th>\n",
       "      <th>mean</th>\n",
       "      <th>mean</th>\n",
       "      <th>median</th>\n",
       "      <th>std</th>\n",
       "    </tr>\n",
       "    <tr>\n",
       "      <th>Have you ever tried to meet up with hometown friends on Thanksgiving night?</th>\n",
       "      <th>Have you ever attended a \"Friendsgiving?\"</th>\n",
       "      <th></th>\n",
       "      <th></th>\n",
       "      <th></th>\n",
       "      <th></th>\n",
       "      <th></th>\n",
       "      <th></th>\n",
       "    </tr>\n",
       "  </thead>\n",
       "  <tbody>\n",
       "    <tr>\n",
       "      <th rowspan=\"2\" valign=\"top\">No</th>\n",
       "      <th>No</th>\n",
       "      <td>18.0</td>\n",
       "      <td>60.0</td>\n",
       "      <td>42.283702</td>\n",
       "      <td>78914.549654</td>\n",
       "      <td>75000.0</td>\n",
       "      <td>59714.595863</td>\n",
       "    </tr>\n",
       "    <tr>\n",
       "      <th>Yes</th>\n",
       "      <td>18.0</td>\n",
       "      <td>60.0</td>\n",
       "      <td>37.010526</td>\n",
       "      <td>72894.736842</td>\n",
       "      <td>50000.0</td>\n",
       "      <td>60173.433551</td>\n",
       "    </tr>\n",
       "    <tr>\n",
       "      <th rowspan=\"2\" valign=\"top\">Yes</th>\n",
       "      <th>No</th>\n",
       "      <td>18.0</td>\n",
       "      <td>60.0</td>\n",
       "      <td>41.475410</td>\n",
       "      <td>78750.000000</td>\n",
       "      <td>75000.0</td>\n",
       "      <td>57398.048121</td>\n",
       "    </tr>\n",
       "    <tr>\n",
       "      <th>Yes</th>\n",
       "      <td>18.0</td>\n",
       "      <td>60.0</td>\n",
       "      <td>33.976744</td>\n",
       "      <td>66019.736842</td>\n",
       "      <td>50000.0</td>\n",
       "      <td>57885.874290</td>\n",
       "    </tr>\n",
       "  </tbody>\n",
       "</table>\n",
       "</div>"
      ],
      "text/plain": [
       "                                                                                             int_age  \\\n",
       "                                                                                                 min   \n",
       "Have you ever tried to meet up with hometown fr... Have you ever attended a \"Friendsgiving?\"           \n",
       "No                                                 No                                           18.0   \n",
       "                                                   Yes                                          18.0   \n",
       "Yes                                                No                                           18.0   \n",
       "                                                   Yes                                          18.0   \n",
       "\n",
       "                                                                                                    \\\n",
       "                                                                                               max   \n",
       "Have you ever tried to meet up with hometown fr... Have you ever attended a \"Friendsgiving?\"         \n",
       "No                                                 No                                         60.0   \n",
       "                                                   Yes                                        60.0   \n",
       "Yes                                                No                                         60.0   \n",
       "                                                   Yes                                        60.0   \n",
       "\n",
       "                                                                                                         \\\n",
       "                                                                                                   mean   \n",
       "Have you ever tried to meet up with hometown fr... Have you ever attended a \"Friendsgiving?\"              \n",
       "No                                                 No                                         42.283702   \n",
       "                                                   Yes                                        37.010526   \n",
       "Yes                                                No                                         41.475410   \n",
       "                                                   Yes                                        33.976744   \n",
       "\n",
       "                                                                                                int_income  \\\n",
       "                                                                                                      mean   \n",
       "Have you ever tried to meet up with hometown fr... Have you ever attended a \"Friendsgiving?\"                 \n",
       "No                                                 No                                         78914.549654   \n",
       "                                                   Yes                                        72894.736842   \n",
       "Yes                                                No                                         78750.000000   \n",
       "                                                   Yes                                        66019.736842   \n",
       "\n",
       "                                                                                                       \\\n",
       "                                                                                               median   \n",
       "Have you ever tried to meet up with hometown fr... Have you ever attended a \"Friendsgiving?\"            \n",
       "No                                                 No                                         75000.0   \n",
       "                                                   Yes                                        50000.0   \n",
       "Yes                                                No                                         75000.0   \n",
       "                                                   Yes                                        50000.0   \n",
       "\n",
       "                                                                                                            \n",
       "                                                                                                       std  \n",
       "Have you ever tried to meet up with hometown fr... Have you ever attended a \"Friendsgiving?\"                \n",
       "No                                                 No                                         59714.595863  \n",
       "                                                   Yes                                        60173.433551  \n",
       "Yes                                                No                                         57398.048121  \n",
       "                                                   Yes                                        57885.874290  "
      ]
     },
     "execution_count": 13,
     "metadata": {},
     "output_type": "execute_result"
    }
   ],
   "source": [
    "### Write your code below this comment.\n",
    "df.groupby([df.iloc[:,56],df.iloc[:,57]]).agg(\n",
    "    {'int_age' : ['min', 'max', 'mean'], 'int_income' : ['mean','median','std']})"
   ]
  },
  {
   "cell_type": "markdown",
   "metadata": {},
   "source": [
    "### Task 11 (1 mark)\n",
    "\n",
    "Can you get the group sizes of those who responded __'Yes'__ and __'No'__ to the following questions:\n",
    "\n",
    "```Have you ever tried to meet up with hometown friends on Thanksgiving night?```\n",
    "\n",
    "```Have you ever attended a \"Friendsgiving?\"```\n",
    "\n",
    "Also ensure that your results have a column and row labeled __'Total'__ which show the totals for each row and column respectively. A snapshot of the expected result is shown below.\n",
    "\n",
    "<u>Hint:</u> Use __crosstab__"
   ]
  },
  {
   "cell_type": "markdown",
   "metadata": {
    "slideshow": {
     "slide_type": "fragment"
    }
   },
   "source": [
    "<img align=\"left\" src=\"images/task11.png\" height=\"600\" width=\"600\">"
   ]
  },
  {
   "cell_type": "code",
   "execution_count": 98,
   "metadata": {},
   "outputs": [
    {
     "data": {
      "text/html": [
       "<div>\n",
       "<style scoped>\n",
       "    .dataframe tbody tr th:only-of-type {\n",
       "        vertical-align: middle;\n",
       "    }\n",
       "\n",
       "    .dataframe tbody tr th {\n",
       "        vertical-align: top;\n",
       "    }\n",
       "\n",
       "    .dataframe thead th {\n",
       "        text-align: right;\n",
       "    }\n",
       "</style>\n",
       "<table border=\"1\" class=\"dataframe\">\n",
       "  <thead>\n",
       "    <tr style=\"text-align: right;\">\n",
       "      <th>Have you ever attended a \"Friendsgiving?\"</th>\n",
       "      <th>No</th>\n",
       "      <th>Yes</th>\n",
       "      <th>Total</th>\n",
       "    </tr>\n",
       "    <tr>\n",
       "      <th>Have you ever tried to meet up with hometown friends on Thanksgiving night?</th>\n",
       "      <th></th>\n",
       "      <th></th>\n",
       "      <th></th>\n",
       "    </tr>\n",
       "  </thead>\n",
       "  <tbody>\n",
       "    <tr>\n",
       "      <th>No</th>\n",
       "      <td>499</td>\n",
       "      <td>95</td>\n",
       "      <td>594</td>\n",
       "    </tr>\n",
       "    <tr>\n",
       "      <th>Yes</th>\n",
       "      <td>184</td>\n",
       "      <td>173</td>\n",
       "      <td>357</td>\n",
       "    </tr>\n",
       "    <tr>\n",
       "      <th>Total</th>\n",
       "      <td>683</td>\n",
       "      <td>268</td>\n",
       "      <td>951</td>\n",
       "    </tr>\n",
       "  </tbody>\n",
       "</table>\n",
       "</div>"
      ],
      "text/plain": [
       "Have you ever attended a \"Friendsgiving?\"            No  Yes  Total\n",
       "Have you ever tried to meet up with hometown fr...                 \n",
       "No                                                  499   95    594\n",
       "Yes                                                 184  173    357\n",
       "Total                                               683  268    951"
      ]
     },
     "execution_count": 98,
     "metadata": {},
     "output_type": "execute_result"
    }
   ],
   "source": [
    "### Write your code below this comment.\n",
    "pd.crosstab(df.iloc[:,56],df.iloc[:,57],margins=True, margins_name='Total')"
   ]
  },
  {
   "cell_type": "markdown",
   "metadata": {},
   "source": [
    "### Task 12 (1 mark)\n",
    "\n",
    "Can you aggregate the counts of your data such that the variable ```Do you typically have gravy?``` appears along the column while the following variables appear along the rows?\n",
    "\n",
    "```Have you ever tried to meet up with hometown friends on Thanksgiving night?```\n",
    "\n",
    "```Have you ever attended a \"Friendsgiving?\"```\n",
    "\n",
    "A snapshot of the expected result is shown below.\n",
    "\n",
    "<u>Hint:</u> Use __crosstab__"
   ]
  },
  {
   "cell_type": "markdown",
   "metadata": {
    "slideshow": {
     "slide_type": "fragment"
    }
   },
   "source": [
    "<img align=\"left\" src=\"images/task12.png\" height=\"800\" width=\"800\">"
   ]
  },
  {
   "cell_type": "code",
   "execution_count": 92,
   "metadata": {},
   "outputs": [
    {
     "data": {
      "text/html": [
       "<div>\n",
       "<style scoped>\n",
       "    .dataframe tbody tr th:only-of-type {\n",
       "        vertical-align: middle;\n",
       "    }\n",
       "\n",
       "    .dataframe tbody tr th {\n",
       "        vertical-align: top;\n",
       "    }\n",
       "\n",
       "    .dataframe thead th {\n",
       "        text-align: right;\n",
       "    }\n",
       "</style>\n",
       "<table border=\"1\" class=\"dataframe\">\n",
       "  <thead>\n",
       "    <tr style=\"text-align: right;\">\n",
       "      <th></th>\n",
       "      <th>Do you typically have gravy?</th>\n",
       "      <th>No</th>\n",
       "      <th>Yes</th>\n",
       "      <th>All</th>\n",
       "    </tr>\n",
       "    <tr>\n",
       "      <th>Have you ever tried to meet up with hometown friends on Thanksgiving night?</th>\n",
       "      <th>Have you ever attended a \"Friendsgiving?\"</th>\n",
       "      <th></th>\n",
       "      <th></th>\n",
       "      <th></th>\n",
       "    </tr>\n",
       "  </thead>\n",
       "  <tbody>\n",
       "    <tr>\n",
       "      <th rowspan=\"2\" valign=\"top\">No</th>\n",
       "      <th>No</th>\n",
       "      <td>39</td>\n",
       "      <td>460</td>\n",
       "      <td>499</td>\n",
       "    </tr>\n",
       "    <tr>\n",
       "      <th>Yes</th>\n",
       "      <td>12</td>\n",
       "      <td>83</td>\n",
       "      <td>95</td>\n",
       "    </tr>\n",
       "    <tr>\n",
       "      <th rowspan=\"2\" valign=\"top\">Yes</th>\n",
       "      <th>No</th>\n",
       "      <td>9</td>\n",
       "      <td>175</td>\n",
       "      <td>184</td>\n",
       "    </tr>\n",
       "    <tr>\n",
       "      <th>Yes</th>\n",
       "      <td>17</td>\n",
       "      <td>156</td>\n",
       "      <td>173</td>\n",
       "    </tr>\n",
       "    <tr>\n",
       "      <th>All</th>\n",
       "      <th></th>\n",
       "      <td>77</td>\n",
       "      <td>874</td>\n",
       "      <td>951</td>\n",
       "    </tr>\n",
       "  </tbody>\n",
       "</table>\n",
       "</div>"
      ],
      "text/plain": [
       "Do you typically have gravy?                                                                  No  \\\n",
       "Have you ever tried to meet up with hometown fr... Have you ever attended a \"Friendsgiving?\"       \n",
       "No                                                 No                                         39   \n",
       "                                                   Yes                                        12   \n",
       "Yes                                                No                                          9   \n",
       "                                                   Yes                                        17   \n",
       "All                                                                                           77   \n",
       "\n",
       "Do you typically have gravy?                                                                  Yes  \\\n",
       "Have you ever tried to meet up with hometown fr... Have you ever attended a \"Friendsgiving?\"        \n",
       "No                                                 No                                         460   \n",
       "                                                   Yes                                         83   \n",
       "Yes                                                No                                         175   \n",
       "                                                   Yes                                        156   \n",
       "All                                                                                           874   \n",
       "\n",
       "Do you typically have gravy?                                                                  All  \n",
       "Have you ever tried to meet up with hometown fr... Have you ever attended a \"Friendsgiving?\"       \n",
       "No                                                 No                                         499  \n",
       "                                                   Yes                                         95  \n",
       "Yes                                                No                                         184  \n",
       "                                                   Yes                                        173  \n",
       "All                                                                                           951  "
      ]
     },
     "execution_count": 92,
     "metadata": {},
     "output_type": "execute_result"
    }
   ],
   "source": [
    "### Write your code below this comment.\n",
    "pd.crosstab([df.iloc[:,56],df.iloc[:,57]], \n",
    "            df['Do you typically have gravy?'],margins=True)"
   ]
  }
 ],
 "metadata": {
  "kernelspec": {
   "display_name": "Python 3 (ipykernel)",
   "language": "python",
   "name": "python3"
  },
  "language_info": {
   "codemirror_mode": {
    "name": "ipython",
    "version": 3
   },
   "file_extension": ".py",
   "mimetype": "text/x-python",
   "name": "python",
   "nbconvert_exporter": "python",
   "pygments_lexer": "ipython3",
   "version": "3.9.7"
  }
 },
 "nbformat": 4,
 "nbformat_minor": 2
}
