{
 "cells": [
  {
   "cell_type": "markdown",
   "metadata": {},
   "source": [
    "# Lists in Python"
   ]
  },
  {
   "cell_type": "markdown",
   "metadata": {},
   "source": [
    "In this lab, you will create a list of random numbers and then create another list from the first list whose elements are divisible by three. You will also repeat the experiment a few times (at least ten times) and calculate the arithmetic mean of the difference of lengths of the two lists."
   ]
  },
  {
   "cell_type": "markdown",
   "metadata": {},
   "source": [
    "***"
   ]
  },
  {
   "cell_type": "markdown",
   "metadata": {},
   "source": [
    "### Task 1 (2 marks)\n",
    "\n",
    "Create a list of random numbers (at least 100 in length but I encourage you to play with the length)\n",
    "\n",
    "__Pay attention so that this list has as less number of duplicates as possible__"
   ]
  },
  {
   "cell_type": "code",
   "execution_count": 2,
   "metadata": {},
   "outputs": [],
   "source": [
    "### Write your code here below this comment\n",
    "import random\n",
    "ls1 = [random.randint(0,1000) for x in range(0,100)]"
   ]
  },
  {
   "cell_type": "markdown",
   "metadata": {},
   "source": [
    "### Task 2 (2 marks)\n",
    "\n",
    "Write a list comprehension to generate a second list from the one you just created. The condition of membership in the second list is divisibility by 3."
   ]
  },
  {
   "cell_type": "code",
   "execution_count": 3,
   "metadata": {},
   "outputs": [],
   "source": [
    "### Write your code bellow this comment\n",
    "ls2 = [item for item in ls1 if item % 3 == 0]"
   ]
  },
  {
   "cell_type": "markdown",
   "metadata": {},
   "source": [
    "### Task 3 (2 marks)\n",
    "\n",
    "- Determine the number of elements in the first list and the second list\n",
    "- Store both in two different variables\n",
    "- Calculate the difference in the number of elements between them"
   ]
  },
  {
   "cell_type": "code",
   "execution_count": 4,
   "metadata": {},
   "outputs": [
    {
     "data": {
      "text/plain": [
       "66"
      ]
     },
     "execution_count": 4,
     "metadata": {},
     "output_type": "execute_result"
    }
   ],
   "source": [
    "### Write your code below this comment\n",
    "# Number of elements in first list\n",
    "len_ls1 = len(ls1)\n",
    "# Number of elements in second list\n",
    "len_ls2 = len(ls2)\n",
    "# Difference between the two lists\n",
    "diff = len_ls1 - len_ls2\n",
    "diff"
   ]
  },
  {
   "cell_type": "markdown",
   "metadata": {},
   "source": [
    "### Task 4 (4 marks)\n",
    "\n",
    "- Pack `Task 1`, `Task 2`, and `Task 3` in a single while loop and perform them a few times in such a way that at the end you have a list with difference of length. That is, you first get a number named `difference` which is:\n",
    "    - `difference` = `length_of_random_list` - `length_of_3_divisible_list`\n",
    "- Then you would append the `difference` number to a list named `difference_list`\n",
    "- End the while loop when desired number of experiments are finished (at least ten, please feel free to do more)\n",
    "- Calculate the arithmetic mean (common average) of the `difference_list` that you have. (How to sum all values in a list?)"
   ]
  },
  {
   "cell_type": "code",
   "execution_count": 4,
   "metadata": {},
   "outputs": [
    {
     "name": "stdout",
     "output_type": "stream",
     "text": [
      "[280, 199, 975, 942, 217, 274, 277, 671, 298, 68]\n",
      "[975, 942]\n",
      "[100, 423, 86, 82, 739, 204, 981, 831, 840, 649]\n",
      "[423, 204, 981, 831, 840]\n",
      "[952, 429, 790, 311, 514, 351, 253, 357, 680, 464]\n",
      "[429, 351, 357]\n",
      "[63, 867, 293, 725, 943, 999, 812, 849, 463, 291]\n",
      "[63, 867, 999, 849, 291]\n",
      "[778, 925, 725, 67, 281, 686, 359, 759, 717, 571]\n",
      "[759, 717]\n",
      "[464, 328, 890, 521, 338, 872, 173, 395, 479, 429]\n",
      "[429]\n",
      "[427, 280, 777, 959, 374, 129, 685, 163, 928, 941]\n",
      "[777, 129]\n",
      "[821, 349, 252, 559, 373, 123, 13, 888, 553, 611]\n",
      "[252, 123, 888]\n",
      "[186, 380, 465, 892, 416, 378, 498, 45, 785, 582]\n",
      "[186, 465, 378, 498, 45, 582]\n",
      "[14, 62, 664, 557, 138, 472, 611, 832, 710, 194]\n",
      "[138]\n",
      "[8, 5, 7, 5, 8, 9, 8, 7, 4, 9]\n"
     ]
    }
   ],
   "source": [
    "### Write your code below this comment.\n",
    "n = 10\n",
    "difference_list = []\n",
    "while n > 0:\n",
    "    ls1 = [random.randint(0,1000) for x in range(0,100)] # first list with random numbers from 0 to 1000, with a length of 100\n",
    "    ls2 = [item for item in ls1 if item % 3 == 0] # elements from first list divisible by 3\n",
    "    difference = len(ls1) - len(ls2) # difference in lengths of the two lists\n",
    "    difference_list.append(difference) # adding each difference in length to a new list\n",
    "    n = n-1\n",
    "print(difference_list)"
   ]
  },
  {
   "cell_type": "code",
   "execution_count": 6,
   "metadata": {},
   "outputs": [
    {
     "data": {
      "text/plain": [
       "67.5"
      ]
     },
     "execution_count": 6,
     "metadata": {},
     "output_type": "execute_result"
    }
   ],
   "source": [
    "# Arithmetic mean\n",
    "total = 0\n",
    "sum1 = 0\n",
    "for i in difference_list:\n",
    "    total = total + 1 # counting the elements in the list\n",
    "    sum1 = sum1 + i # summing the elements in the list\n",
    "\n",
    "average = sum1/total # or average = sum(difference_list)/len(difference_list)\n",
    "average"
   ]
  }
 ],
 "metadata": {
  "kernelspec": {
   "display_name": "Python 3 (ipykernel)",
   "language": "python",
   "name": "python3"
  },
  "language_info": {
   "codemirror_mode": {
    "name": "ipython",
    "version": 3
   },
   "file_extension": ".py",
   "mimetype": "text/x-python",
   "name": "python",
   "nbconvert_exporter": "python",
   "pygments_lexer": "ipython3",
   "version": "3.9.7"
  }
 },
 "nbformat": 4,
 "nbformat_minor": 4
}
