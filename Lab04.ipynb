{
 "cells": [
  {
   "cell_type": "markdown",
   "metadata": {},
   "source": [
    "# Lab - File Handling & Numpy Arrays"
   ]
  },
  {
   "cell_type": "markdown",
   "metadata": {},
   "source": [
    "Complete the tasks listed below. You can submit the completed lab until 11:59 PM in the night."
   ]
  },
  {
   "cell_type": "markdown",
   "metadata": {},
   "source": [
    "### Task 1 (3 marks)\n",
    "\n",
    "The __data__ folder contains five csv files with column names `Col_A`, `Col_B`, `Col_C`, `Col_D`, and `Col_E`, as well as some fictitious data. \n",
    "\n",
    "Write Python code that extracts all the lines from each file (except the first line which contains the column names) and creates a list of those integers for each file. For example, the list of integers for the file `Y2015-data.csv` would be [1, 2, 3, 4, 5, 6, 7, 8, 9, 10, 11, 12, 13, 14, 15, 16, 17, 18, 19, 20].\n",
    "\n",
    "Then write code that extracts the year (such as `Y2015`) from each file path (such as `data\\\\Y2015-data.csv`) and creates a key with that year in a dictionary named __data_dict__. The value for the key (e.g. `Y2015`) should be the list of integers extracted from that file (i.e. `Y2015-data.csv`). You can write all of the above mentioned code in a single cell.\n",
    "\n",
    "Some starter code is reproduced below for your convenience. Also, the desired output __data_dict__ is shown below."
   ]
  },
  {
   "cell_type": "markdown",
   "metadata": {},
   "source": [
    "<img src=\"figs/data_dict.png\" width=\"1000\" align=\"left\">"
   ]
  },
  {
   "cell_type": "code",
   "execution_count": 1,
   "metadata": {},
   "outputs": [],
   "source": [
    "import glob"
   ]
  },
  {
   "cell_type": "code",
   "execution_count": 2,
   "metadata": {},
   "outputs": [],
   "source": [
    "path = 'data' # use your path\n",
    "allFiles = []\n",
    "allFiles = glob.glob(path + \"/*.csv\")"
   ]
  },
  {
   "cell_type": "code",
   "execution_count": 66,
   "metadata": {
    "scrolled": true
   },
   "outputs": [
    {
     "data": {
      "text/plain": [
       "['data/Y2015-data.csv',\n",
       " 'data/Y2016-data.csv',\n",
       " 'data/Y2017-data.csv',\n",
       " 'data/Y2018-data.csv',\n",
       " 'data/Y2019-data.csv']"
      ]
     },
     "execution_count": 66,
     "metadata": {},
     "output_type": "execute_result"
    }
   ],
   "source": [
    "allFiles.sort()\n",
    "allFiles"
   ]
  },
  {
   "cell_type": "code",
   "execution_count": 143,
   "metadata": {},
   "outputs": [
    {
     "name": "stdout",
     "output_type": "stream",
     "text": [
      "{'Y2015': [1, 2, 3, 4, 5, 6, 7, 8, 9, 10, 11, 12, 13, 14, 15, 16, 17, 18, 19, 20], 'Y2016': [21, 22, 23, 24, 25, 26, 27, 28, 29, 30, 31, 32, 33, 34, 35, 36, 37, 38, 39, 40], 'Y2017': [41, 42, 43, 44, 45, 46, 47, 48, 49, 50, 51, 52, 53, 54, 55, 56, 57, 58, 59, 60], 'Y2018': [61, 62, 63, 64, 65, 66, 67, 68, 69, 70, 71, 72, 73, 74, 75, 76, 77, 78, 79, 80], 'Y2019': [81, 82, 83, 84, 85, 86, 87, 88, 89, 90, 91, 92, 93, 94, 95, 96, 97, 98, 99, 100]}\n"
     ]
    }
   ],
   "source": [
    "import re\n",
    "data_dict = dict()\n",
    "for file in allFiles:\n",
    "    match = re.search('Y[0-9]{4}',file)\n",
    "    \n",
    "    # if file doesn't match, skip it\n",
    "    if match == None:\n",
    "        continue  \n",
    "    \n",
    "    year = match.group(0)\n",
    "    with open(file) as fhandle:\n",
    "        next(fhandle)\n",
    "        ls = list()\n",
    "        for line in fhandle:\n",
    "            line = line.strip()\n",
    "            for num in line.split(','):    \n",
    "                ls.append(int(num))      \n",
    "    data_dict[year] = ls\n",
    "print(data_dict)"
   ]
  },
  {
   "cell_type": "markdown",
   "metadata": {},
   "source": [
    "### Task 2 (0.5 mark)\n",
    "\n",
    "Write a NumPy program to create a 3x3 matrix with values ranging from 2 to 10 (inclusive of both ends)."
   ]
  },
  {
   "cell_type": "code",
   "execution_count": 76,
   "metadata": {},
   "outputs": [
    {
     "name": "stdout",
     "output_type": "stream",
     "text": [
      "Random matrix of shape (3,3): \n",
      " [[6 9 3]\n",
      " [4 3 4]\n",
      " [7 3 3]]\n"
     ]
    }
   ],
   "source": [
    "### Write your code below this comment.\n",
    "import numpy as np\n",
    "mat1 = np.random.randint(low=2, high=11, size=(3,3))\n",
    "print(\"Random matrix of shape (3,3): \\n\",mat1)"
   ]
  },
  {
   "cell_type": "markdown",
   "metadata": {},
   "source": [
    "### Task 3 (0.5 mark)\n",
    "\n",
    "Write a NumPy program to convert the array __[1, 2, 3, 4, 5]__ to float type. Print both the original as well as the converted array."
   ]
  },
  {
   "cell_type": "markdown",
   "metadata": {},
   "source": [
    "__This task requires a little bit of creativity. Free free to Google around to find the required function / method.__"
   ]
  },
  {
   "cell_type": "code",
   "execution_count": 84,
   "metadata": {},
   "outputs": [
    {
     "name": "stdout",
     "output_type": "stream",
     "text": [
      "Original array: [1 2 3 4 5]\n",
      "Converted array: [1. 2. 3. 4. 5.]\n"
     ]
    }
   ],
   "source": [
    "### Write your code below this comment.\n",
    "array1 = np.array([1, 2, 3, 4, 5])\n",
    "conv_array = array1.astype(float)\n",
    "print(\"Original array:\", array1)\n",
    "print(\"Converted array:\", conv_array)"
   ]
  },
  {
   "cell_type": "markdown",
   "metadata": {},
   "source": [
    "### Task 4 (2 marks)\n",
    "\n",
    "Write a NumPy program to create a 5x5 matrix with all 1's. Then write code to modify the matrix such that it has 1 on the borders and 0 inside. Print both the original as well as the modified matrix. A screenshot of the original as well as the modified matrix is shown below:"
   ]
  },
  {
   "cell_type": "markdown",
   "metadata": {},
   "source": [
    "<img src=\"figs/task4.png\" width=\"320\" align=\"left\">"
   ]
  },
  {
   "cell_type": "code",
   "execution_count": 106,
   "metadata": {},
   "outputs": [
    {
     "name": "stdout",
     "output_type": "stream",
     "text": [
      "Original array: \n",
      " [[1. 1. 1. 1. 1.]\n",
      " [1. 1. 1. 1. 1.]\n",
      " [1. 1. 1. 1. 1.]\n",
      " [1. 1. 1. 1. 1.]\n",
      " [1. 1. 1. 1. 1.]]\n",
      "1 on the borders and 0 inside the array \n",
      " [[1. 1. 1. 1. 1.]\n",
      " [1. 0. 0. 0. 1.]\n",
      " [1. 0. 0. 0. 1.]\n",
      " [1. 0. 0. 0. 1.]\n",
      " [1. 1. 1. 1. 1.]]\n"
     ]
    }
   ],
   "source": [
    "### Write your code below this comment.\n",
    "original_array = np.ones((5,5))\n",
    "print(\"Original array: \\n\",original_array)\n",
    "ones_zeros_array = original_array\n",
    "ones_zeros_array[1:4,1:4] = 0\n",
    "print(\"1 on the borders and 0 inside the array \\n\",ones_zeros_array)"
   ]
  },
  {
   "cell_type": "markdown",
   "metadata": {},
   "source": [
    "### Task 5 (1 mark)\n",
    "\n",
    "Write a NumPy program to get the unique elements from the following arrays: \n",
    "- __[10, 10, 20, 20, 30, 30]__\n",
    "- __[[1, 1], [2, 3]]__\n",
    "\n",
    "Print both the original arrays as well as the arrays with unique elements. The following is a pictorial representation of this operation:"
   ]
  },
  {
   "cell_type": "markdown",
   "metadata": {},
   "source": [
    "<img src=\"figs/array_unique.png\" width=\"350\" height=\"350\" align=\"left\">"
   ]
  },
  {
   "cell_type": "markdown",
   "metadata": {},
   "source": [
    "__This task requires a little bit of creativity. Free free to Google around to find the required function / method.__"
   ]
  },
  {
   "cell_type": "code",
   "execution_count": 116,
   "metadata": {},
   "outputs": [
    {
     "name": "stdout",
     "output_type": "stream",
     "text": [
      "Original array 1: \n",
      " [10 10 20 20 30 30]\n",
      "Unique elements from original array 1: \n",
      " [10 20 30]\n",
      "Original array 2: \n",
      " [[1 1]\n",
      " [2 3]]\n",
      "Unique elements from original array 2: \n",
      " [1 2 3]\n"
     ]
    }
   ],
   "source": [
    "### Write your code below this comment.\n",
    "array1 = np.array([10, 10, 20, 20, 30, 30])\n",
    "array2 = np.array([[1,1],[2,3]])\n",
    "print(\"Original array 1: \\n\", array1)\n",
    "print(\"Unique elements from original array 1: \\n\", np.unique(array1))\n",
    "print(\"Original array 2: \\n\", array2)\n",
    "print(\"Unique elements from original array 2: \\n\", np.unique(array2))"
   ]
  },
  {
   "cell_type": "markdown",
   "metadata": {},
   "source": [
    "### Task 6 (1.5 marks)\n",
    "\n",
    "Write a NumPy program to change the dimensions of the 1D array __[1, 2, 3, 4, 5, 6, 7, 8, 9]__ to a 3x3 matrix. Explain why the shape of the 1D array displays 9 rows and no columns although it has just a single row/column. How could this possibly be corrected?"
   ]
  },
  {
   "cell_type": "code",
   "execution_count": 144,
   "metadata": {},
   "outputs": [
    {
     "name": "stdout",
     "output_type": "stream",
     "text": [
      "(9,)\n",
      "[[1 2 3]\n",
      " [4 5 6]\n",
      " [7 8 9]]\n",
      "(3, 3)\n"
     ]
    }
   ],
   "source": [
    "### Write your code below this comment.\n",
    "array1 = np.array([1,2,3,4,5,6,7,8,9])\n",
    "print(array1.shape)\n",
    "mat1 = array1.reshape(3,3)\n",
    "print(mat1)\n",
    "print(mat1.shape)"
   ]
  },
  {
   "cell_type": "markdown",
   "metadata": {},
   "source": [
    "__Ans:__ The shape atribute of an array is represented as a tuple of (rows,columns) which only applies for 2 dimensional arrays. A 1D array only has 1 dimension so its shape can't be represented as (rows,columns) but since the attribute is represented as a tuple it has to include the comma, so the result is shown as (number of elements,). The 9 is the number of elements in the array."
   ]
  },
  {
   "cell_type": "code",
   "execution_count": 10,
   "metadata": {},
   "outputs": [],
   "source": [
    "### Write your code below this comment."
   ]
  },
  {
   "cell_type": "markdown",
   "metadata": {},
   "source": [
    "### Task 7 (1.5 marks)\n",
    "\n",
    "Create the matrices shown below:"
   ]
  },
  {
   "cell_type": "markdown",
   "metadata": {},
   "source": [
    "<img src=\"figs/task7-1.png\" width=\"230\" align=\"left\">"
   ]
  },
  {
   "cell_type": "markdown",
   "metadata": {},
   "source": [
    "Then combine them into a single matrix named __result__ that looks as follows:"
   ]
  },
  {
   "cell_type": "markdown",
   "metadata": {},
   "source": [
    "<img src=\"figs/task7-2.png\" width=\"185\" align=\"left\">"
   ]
  },
  {
   "cell_type": "markdown",
   "metadata": {},
   "source": [
    "Once you have created the __result__ matrix, find the total number of its elements that are greater than or equal to __34__."
   ]
  },
  {
   "cell_type": "code",
   "execution_count": 133,
   "metadata": {},
   "outputs": [
    {
     "name": "stdout",
     "output_type": "stream",
     "text": [
      "[[73 10 70 80 83 89]\n",
      " [21 81 48 65 50 30]\n",
      " [20 20 33 66 33 32]\n",
      " [15 40 10 58 75 24]]\n",
      "Elements greater than or equal to 34: 13\n"
     ]
    }
   ],
   "source": [
    "### Write your code below this comment.\n",
    "mat1 = np.array([73,10,21,81]).reshape(2,2)\n",
    "mat2 = np.array([70,80,48,65]).reshape(2,2)\n",
    "mat3 = np.array([83,89,50,30]).reshape(2,2)\n",
    "mat4 = np.array([20,20,15,40]).reshape(2,2)\n",
    "mat5 = np.array([33,66,10,58]).reshape(2,2)\n",
    "mat6 = np.array([33,32,75,24]).reshape(2,2)\n",
    "\n",
    "arr1 = np.hstack((mat1,mat2,mat3))\n",
    "arr2 = np.hstack((mat4,mat5,mat6))\n",
    "result = np.vstack((arr1,arr2))\n",
    "print(result)\n",
    "\n",
    "print (\"Elements greater than or equal to 34:\", len(result[result>=34]))\n"
   ]
  },
  {
   "cell_type": "markdown",
   "metadata": {},
   "source": [
    "### Task 8 (Bonus: 1 mark)\n",
    "\n",
    "Create the arrays __a1__ and __a2__ as shown below:"
   ]
  },
  {
   "cell_type": "markdown",
   "metadata": {},
   "source": [
    "<img src=\"figs/task8.png\" width=\"300\" align=\"left\">"
   ]
  },
  {
   "cell_type": "markdown",
   "metadata": {},
   "source": [
    "Then, as revealed in class, calculate their dot as well as cross product. Print both the original arrays as well as the resulting dot and cross product arrays."
   ]
  },
  {
   "cell_type": "markdown",
   "metadata": {},
   "source": [
    "__This task requires a little bit of creativity. Free free to Google around to find the required function.__"
   ]
  },
  {
   "cell_type": "markdown",
   "metadata": {},
   "source": [
    "<u>Note:</u> The Bonus mark would only be added if the score you obtained in the lab assignment is less than the maximum score. For example, if you get 9.5/10 plus 1 bonus mark, your score will be elevated to 10 and not 10.5. If you already got the maximum score, the bonus mark will be ignored."
   ]
  },
  {
   "cell_type": "code",
   "execution_count": 139,
   "metadata": {},
   "outputs": [
    {
     "name": "stdout",
     "output_type": "stream",
     "text": [
      "a1 \n",
      " [[ 2  3  4]\n",
      " [ 5  6  7]\n",
      " [ 8  9 10]]\n",
      "a2 \n",
      " [[ 4  5  6]\n",
      " [ 7  8  9]\n",
      " [10 11 12]]\n",
      "\n",
      " Dot product \n",
      " [[ 69  78  87]\n",
      " [132 150 168]\n",
      " [195 222 249]]\n",
      "\n",
      " Cross product \n",
      " [[-2  4 -2]\n",
      " [-2  4 -2]\n",
      " [-2  4 -2]]\n"
     ]
    }
   ],
   "source": [
    "### Write your code below this comment.\n",
    "a1 = np.array([2,3,4,5,6,7,8,9,10]).reshape((3,3))\n",
    "print(\"a1 \\n\", a1)\n",
    "a2 = np.array([4,5,6,7,8,9,10,11,12]).reshape((3,3))\n",
    "print(\"a2 \\n\", a2)\n",
    "\n",
    "dot_product = np.dot(a1,a2)\n",
    "print(\"\\n Dot product \\n\", dot_product)\n",
    "cross_product = np.cross(a1,a2)\n",
    "print(\"\\n Cross product \\n\", cross_product)"
   ]
  }
 ],
 "metadata": {
  "kernelspec": {
   "display_name": "Python 3 (ipykernel)",
   "language": "python",
   "name": "python3"
  },
  "language_info": {
   "codemirror_mode": {
    "name": "ipython",
    "version": 3
   },
   "file_extension": ".py",
   "mimetype": "text/x-python",
   "name": "python",
   "nbconvert_exporter": "python",
   "pygments_lexer": "ipython3",
   "version": "3.9.7"
  }
 },
 "nbformat": 4,
 "nbformat_minor": 2
}
