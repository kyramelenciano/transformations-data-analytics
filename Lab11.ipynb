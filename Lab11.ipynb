{
 "cells": [
  {
   "cell_type": "markdown",
   "metadata": {},
   "source": [
    "# Advanced List Comprehension and List Functions\n",
    "# Data Formatting, Identifying and Cleaning Outliers"
   ]
  },
  {
   "cell_type": "markdown",
   "metadata": {},
   "source": [
    "Complete the tasks listed below. You can submit the completed lab until 11:59 PM in the night."
   ]
  },
  {
   "cell_type": "markdown",
   "metadata": {},
   "source": [
    "### Task 1 (1 mark)\n",
    "\n",
    "A file named __Lincoln.txt__ is included in the folder containing this Notebook. Open the file and write some traditional Python code (one that uses nested _for_ loops) to extract all the words from this file into a list named __word_list__. The list should only include the words from the file in lower case (punctuation, hyphens, new line characters etc should not be included). A portion of the output is shown below for your convenience:"
   ]
  },
  {
   "cell_type": "markdown",
   "metadata": {
    "slideshow": {
     "slide_type": "fragment"
    }
   },
   "source": [
    "<img align=left src=\"images/task1.png\" height=\"125\" width=\"125\">"
   ]
  },
  {
   "cell_type": "markdown",
   "metadata": {},
   "source": [
    "<u>Hint:</u> You can use a very short snippet of code exploiting Python's regular expression __re__ module, which would make your task a whole lot easier."
   ]
  },
  {
   "cell_type": "code",
   "execution_count": 363,
   "metadata": {},
   "outputs": [
    {
     "data": {
      "text/plain": [
       "['four',\n",
       " 'score',\n",
       " 'and',\n",
       " 'seven',\n",
       " 'years',\n",
       " 'ago',\n",
       " 'our',\n",
       " 'fathers',\n",
       " 'brought',\n",
       " 'forth',\n",
       " 'on',\n",
       " 'this',\n",
       " 'continent',\n",
       " 'a',\n",
       " 'new',\n",
       " 'nation',\n",
       " 'conceived',\n",
       " 'in',\n",
       " 'liberty',\n",
       " 'and',\n",
       " 'dedicated',\n",
       " 'to',\n",
       " 'the',\n",
       " 'proposition',\n",
       " 'that',\n",
       " 'all',\n",
       " 'men',\n",
       " 'are',\n",
       " 'created',\n",
       " 'equal',\n",
       " 'now',\n",
       " 'we',\n",
       " 'are',\n",
       " 'engaged',\n",
       " 'in',\n",
       " 'a',\n",
       " 'great',\n",
       " 'civil',\n",
       " 'war',\n",
       " 'testing',\n",
       " 'whether',\n",
       " 'that',\n",
       " 'nation',\n",
       " 'or',\n",
       " 'any',\n",
       " 'nation',\n",
       " 'so',\n",
       " 'conceived',\n",
       " 'and',\n",
       " 'dedicated',\n",
       " 'can',\n",
       " 'long',\n",
       " 'endure',\n",
       " 'we',\n",
       " 'are',\n",
       " 'met',\n",
       " 'on',\n",
       " 'a',\n",
       " 'great',\n",
       " 'battlefield',\n",
       " 'of',\n",
       " 'that',\n",
       " 'war',\n",
       " 'we',\n",
       " 'have',\n",
       " 'come',\n",
       " 'to',\n",
       " 'dedicate',\n",
       " 'a',\n",
       " 'portion',\n",
       " 'of',\n",
       " 'that',\n",
       " 'field',\n",
       " 'as',\n",
       " 'a',\n",
       " 'final',\n",
       " 'resting',\n",
       " 'place',\n",
       " 'for',\n",
       " 'those',\n",
       " 'who',\n",
       " 'here',\n",
       " 'gave',\n",
       " 'their',\n",
       " 'lives',\n",
       " 'that',\n",
       " 'that',\n",
       " 'nation',\n",
       " 'might',\n",
       " 'live',\n",
       " 'it',\n",
       " 'is',\n",
       " 'altogether',\n",
       " 'fitting',\n",
       " 'and',\n",
       " 'proper',\n",
       " 'that',\n",
       " 'we',\n",
       " 'should',\n",
       " 'do',\n",
       " 'this',\n",
       " 'but',\n",
       " 'in',\n",
       " 'a',\n",
       " 'larger',\n",
       " 'sense',\n",
       " 'we',\n",
       " 'can',\n",
       " 'not',\n",
       " 'dedicate',\n",
       " 'we',\n",
       " 'can',\n",
       " 'not',\n",
       " 'consecrate',\n",
       " 'we',\n",
       " 'can',\n",
       " 'not',\n",
       " 'hallow',\n",
       " 'this',\n",
       " 'ground',\n",
       " 'the',\n",
       " 'brave',\n",
       " 'men',\n",
       " 'living',\n",
       " 'and',\n",
       " 'dead',\n",
       " 'who',\n",
       " 'struggled',\n",
       " 'here',\n",
       " 'have',\n",
       " 'consecrated',\n",
       " 'it',\n",
       " 'far',\n",
       " 'above',\n",
       " 'our',\n",
       " 'poor',\n",
       " 'power',\n",
       " 'to',\n",
       " 'add',\n",
       " 'or',\n",
       " 'detract',\n",
       " 'the',\n",
       " 'world',\n",
       " 'will',\n",
       " 'little',\n",
       " 'note',\n",
       " 'nor',\n",
       " 'long',\n",
       " 'remember',\n",
       " 'what',\n",
       " 'we',\n",
       " 'say',\n",
       " 'here',\n",
       " 'but',\n",
       " 'it',\n",
       " 'can',\n",
       " 'never',\n",
       " 'forget',\n",
       " 'what',\n",
       " 'they',\n",
       " 'did',\n",
       " 'here',\n",
       " 'it',\n",
       " 'is',\n",
       " 'for',\n",
       " 'us',\n",
       " 'the',\n",
       " 'living',\n",
       " 'rather',\n",
       " 'to',\n",
       " 'be',\n",
       " 'dedicated',\n",
       " 'here',\n",
       " 'to',\n",
       " 'the',\n",
       " 'unfinished',\n",
       " 'work',\n",
       " 'which',\n",
       " 'they',\n",
       " 'who',\n",
       " 'fought',\n",
       " 'here',\n",
       " 'have',\n",
       " 'thus',\n",
       " 'far',\n",
       " 'so',\n",
       " 'nobly',\n",
       " 'advanced',\n",
       " 'it',\n",
       " 'is',\n",
       " 'rather',\n",
       " 'for',\n",
       " 'us',\n",
       " 'to',\n",
       " 'be',\n",
       " 'here',\n",
       " 'dedicated',\n",
       " 'to',\n",
       " 'the',\n",
       " 'great',\n",
       " 'task',\n",
       " 'remaining',\n",
       " 'before',\n",
       " 'us',\n",
       " 'that',\n",
       " 'from',\n",
       " 'these',\n",
       " 'honored',\n",
       " 'dead',\n",
       " 'we',\n",
       " 'take',\n",
       " 'increased',\n",
       " 'devotion',\n",
       " 'to',\n",
       " 'that',\n",
       " 'cause',\n",
       " 'for',\n",
       " 'which',\n",
       " 'they',\n",
       " 'gave',\n",
       " 'the',\n",
       " 'last',\n",
       " 'full',\n",
       " 'measure',\n",
       " 'of',\n",
       " 'devotion',\n",
       " 'that',\n",
       " 'we',\n",
       " 'here',\n",
       " 'highly',\n",
       " 'resolve',\n",
       " 'that',\n",
       " 'these',\n",
       " 'dead',\n",
       " 'shall',\n",
       " 'not',\n",
       " 'have',\n",
       " 'died',\n",
       " 'in',\n",
       " 'vain',\n",
       " 'that',\n",
       " 'this',\n",
       " 'nation',\n",
       " 'under',\n",
       " 'god',\n",
       " 'shall',\n",
       " 'have',\n",
       " 'a',\n",
       " 'new',\n",
       " 'birth',\n",
       " 'of',\n",
       " 'freedom',\n",
       " 'and',\n",
       " 'that',\n",
       " 'government',\n",
       " 'of',\n",
       " 'the',\n",
       " 'people',\n",
       " 'by',\n",
       " 'the',\n",
       " 'people',\n",
       " 'for',\n",
       " 'the',\n",
       " 'people',\n",
       " 'shall',\n",
       " 'not',\n",
       " 'perish',\n",
       " 'from',\n",
       " 'the',\n",
       " 'earth']"
      ]
     },
     "execution_count": 363,
     "metadata": {},
     "output_type": "execute_result"
    }
   ],
   "source": [
    "### Write your code below this comment.\n",
    "import re\n",
    "word_list = []\n",
    "with open('data/Lincoln.txt') as fileh:\n",
    "    for line in fileh:\n",
    "        if line[0]=='\\n':\n",
    "            continue\n",
    "        words = re.findall(r'\\w+', line.lower())\n",
    "        word_list.extend(words)\n",
    "word_list"
   ]
  },
  {
   "cell_type": "markdown",
   "metadata": {},
   "source": [
    "### Task 2 (1 mark)\n",
    "\n",
    "Do the same you did in Task 1 above, this time around using a list comprehension instead."
   ]
  },
  {
   "cell_type": "code",
   "execution_count": 364,
   "metadata": {},
   "outputs": [
    {
     "data": {
      "text/plain": [
       "['four',\n",
       " 'score',\n",
       " 'and',\n",
       " 'seven',\n",
       " 'years',\n",
       " 'ago',\n",
       " 'our',\n",
       " 'fathers',\n",
       " 'brought',\n",
       " 'forth',\n",
       " 'on',\n",
       " 'this',\n",
       " 'continent',\n",
       " 'a',\n",
       " 'new',\n",
       " 'nation',\n",
       " 'conceived',\n",
       " 'in',\n",
       " 'liberty',\n",
       " 'and',\n",
       " 'dedicated',\n",
       " 'to',\n",
       " 'the',\n",
       " 'proposition',\n",
       " 'that',\n",
       " 'all',\n",
       " 'men',\n",
       " 'are',\n",
       " 'created',\n",
       " 'equal',\n",
       " 'now',\n",
       " 'we',\n",
       " 'are',\n",
       " 'engaged',\n",
       " 'in',\n",
       " 'a',\n",
       " 'great',\n",
       " 'civil',\n",
       " 'war',\n",
       " 'testing',\n",
       " 'whether',\n",
       " 'that',\n",
       " 'nation',\n",
       " 'or',\n",
       " 'any',\n",
       " 'nation',\n",
       " 'so',\n",
       " 'conceived',\n",
       " 'and',\n",
       " 'dedicated',\n",
       " 'can',\n",
       " 'long',\n",
       " 'endure',\n",
       " 'we',\n",
       " 'are',\n",
       " 'met',\n",
       " 'on',\n",
       " 'a',\n",
       " 'great',\n",
       " 'battlefield',\n",
       " 'of',\n",
       " 'that',\n",
       " 'war',\n",
       " 'we',\n",
       " 'have',\n",
       " 'come',\n",
       " 'to',\n",
       " 'dedicate',\n",
       " 'a',\n",
       " 'portion',\n",
       " 'of',\n",
       " 'that',\n",
       " 'field',\n",
       " 'as',\n",
       " 'a',\n",
       " 'final',\n",
       " 'resting',\n",
       " 'place',\n",
       " 'for',\n",
       " 'those',\n",
       " 'who',\n",
       " 'here',\n",
       " 'gave',\n",
       " 'their',\n",
       " 'lives',\n",
       " 'that',\n",
       " 'that',\n",
       " 'nation',\n",
       " 'might',\n",
       " 'live',\n",
       " 'it',\n",
       " 'is',\n",
       " 'altogether',\n",
       " 'fitting',\n",
       " 'and',\n",
       " 'proper',\n",
       " 'that',\n",
       " 'we',\n",
       " 'should',\n",
       " 'do',\n",
       " 'this',\n",
       " 'but',\n",
       " 'in',\n",
       " 'a',\n",
       " 'larger',\n",
       " 'sense',\n",
       " 'we',\n",
       " 'can',\n",
       " 'not',\n",
       " 'dedicate',\n",
       " 'we',\n",
       " 'can',\n",
       " 'not',\n",
       " 'consecrate',\n",
       " 'we',\n",
       " 'can',\n",
       " 'not',\n",
       " 'hallow',\n",
       " 'this',\n",
       " 'ground',\n",
       " 'the',\n",
       " 'brave',\n",
       " 'men',\n",
       " 'living',\n",
       " 'and',\n",
       " 'dead',\n",
       " 'who',\n",
       " 'struggled',\n",
       " 'here',\n",
       " 'have',\n",
       " 'consecrated',\n",
       " 'it',\n",
       " 'far',\n",
       " 'above',\n",
       " 'our',\n",
       " 'poor',\n",
       " 'power',\n",
       " 'to',\n",
       " 'add',\n",
       " 'or',\n",
       " 'detract',\n",
       " 'the',\n",
       " 'world',\n",
       " 'will',\n",
       " 'little',\n",
       " 'note',\n",
       " 'nor',\n",
       " 'long',\n",
       " 'remember',\n",
       " 'what',\n",
       " 'we',\n",
       " 'say',\n",
       " 'here',\n",
       " 'but',\n",
       " 'it',\n",
       " 'can',\n",
       " 'never',\n",
       " 'forget',\n",
       " 'what',\n",
       " 'they',\n",
       " 'did',\n",
       " 'here',\n",
       " 'it',\n",
       " 'is',\n",
       " 'for',\n",
       " 'us',\n",
       " 'the',\n",
       " 'living',\n",
       " 'rather',\n",
       " 'to',\n",
       " 'be',\n",
       " 'dedicated',\n",
       " 'here',\n",
       " 'to',\n",
       " 'the',\n",
       " 'unfinished',\n",
       " 'work',\n",
       " 'which',\n",
       " 'they',\n",
       " 'who',\n",
       " 'fought',\n",
       " 'here',\n",
       " 'have',\n",
       " 'thus',\n",
       " 'far',\n",
       " 'so',\n",
       " 'nobly',\n",
       " 'advanced',\n",
       " 'it',\n",
       " 'is',\n",
       " 'rather',\n",
       " 'for',\n",
       " 'us',\n",
       " 'to',\n",
       " 'be',\n",
       " 'here',\n",
       " 'dedicated',\n",
       " 'to',\n",
       " 'the',\n",
       " 'great',\n",
       " 'task',\n",
       " 'remaining',\n",
       " 'before',\n",
       " 'us',\n",
       " 'that',\n",
       " 'from',\n",
       " 'these',\n",
       " 'honored',\n",
       " 'dead',\n",
       " 'we',\n",
       " 'take',\n",
       " 'increased',\n",
       " 'devotion',\n",
       " 'to',\n",
       " 'that',\n",
       " 'cause',\n",
       " 'for',\n",
       " 'which',\n",
       " 'they',\n",
       " 'gave',\n",
       " 'the',\n",
       " 'last',\n",
       " 'full',\n",
       " 'measure',\n",
       " 'of',\n",
       " 'devotion',\n",
       " 'that',\n",
       " 'we',\n",
       " 'here',\n",
       " 'highly',\n",
       " 'resolve',\n",
       " 'that',\n",
       " 'these',\n",
       " 'dead',\n",
       " 'shall',\n",
       " 'not',\n",
       " 'have',\n",
       " 'died',\n",
       " 'in',\n",
       " 'vain',\n",
       " 'that',\n",
       " 'this',\n",
       " 'nation',\n",
       " 'under',\n",
       " 'god',\n",
       " 'shall',\n",
       " 'have',\n",
       " 'a',\n",
       " 'new',\n",
       " 'birth',\n",
       " 'of',\n",
       " 'freedom',\n",
       " 'and',\n",
       " 'that',\n",
       " 'government',\n",
       " 'of',\n",
       " 'the',\n",
       " 'people',\n",
       " 'by',\n",
       " 'the',\n",
       " 'people',\n",
       " 'for',\n",
       " 'the',\n",
       " 'people',\n",
       " 'shall',\n",
       " 'not',\n",
       " 'perish',\n",
       " 'from',\n",
       " 'the',\n",
       " 'earth']"
      ]
     },
     "execution_count": 364,
     "metadata": {},
     "output_type": "execute_result"
    }
   ],
   "source": [
    "fileh = open('data/Lincoln.txt')\n",
    "# [word for word in re.findall(r'\\w+', line.lower()) for line in fileh if line[0]!='\\n']\n",
    "matrix_ge = (re.findall(r'\\w+', line.strip().lower()) for line in fileh if line[0]!='\\n')\n",
    "word_list2 = [word for linewords in matrix_ge for word in linewords]\n",
    "word_list2"
   ]
  },
  {
   "cell_type": "markdown",
   "metadata": {},
   "source": [
    "### Task 3 (1 mark)\n",
    "\n",
    "Write code that creates a dictionary named __counts__ which stores the counts of all the words included in the list __word_list__. A portion of the output is shown below for your convenience:"
   ]
  },
  {
   "cell_type": "markdown",
   "metadata": {
    "slideshow": {
     "slide_type": "fragment"
    }
   },
   "source": [
    "<img align=left src=\"images/task3.png\" height=\"150\" width=\"150\">"
   ]
  },
  {
   "cell_type": "code",
   "execution_count": 365,
   "metadata": {},
   "outputs": [
    {
     "data": {
      "text/plain": [
       "{'four': 1,\n",
       " 'score': 1,\n",
       " 'and': 6,\n",
       " 'seven': 1,\n",
       " 'years': 1,\n",
       " 'ago': 1,\n",
       " 'our': 2,\n",
       " 'fathers': 1,\n",
       " 'brought': 1,\n",
       " 'forth': 1,\n",
       " 'on': 2,\n",
       " 'this': 4,\n",
       " 'continent': 1,\n",
       " 'a': 7,\n",
       " 'new': 2,\n",
       " 'nation': 5,\n",
       " 'conceived': 2,\n",
       " 'in': 4,\n",
       " 'liberty': 1,\n",
       " 'dedicated': 4,\n",
       " 'to': 8,\n",
       " 'the': 11,\n",
       " 'proposition': 1,\n",
       " 'that': 13,\n",
       " 'all': 1,\n",
       " 'men': 2,\n",
       " 'are': 3,\n",
       " 'created': 1,\n",
       " 'equal': 1,\n",
       " 'now': 1,\n",
       " 'we': 10,\n",
       " 'engaged': 1,\n",
       " 'great': 3,\n",
       " 'civil': 1,\n",
       " 'war': 2,\n",
       " 'testing': 1,\n",
       " 'whether': 1,\n",
       " 'or': 2,\n",
       " 'any': 1,\n",
       " 'so': 2,\n",
       " 'can': 5,\n",
       " 'long': 2,\n",
       " 'endure': 1,\n",
       " 'met': 1,\n",
       " 'battlefield': 1,\n",
       " 'of': 5,\n",
       " 'have': 5,\n",
       " 'come': 1,\n",
       " 'dedicate': 2,\n",
       " 'portion': 1,\n",
       " 'field': 1,\n",
       " 'as': 1,\n",
       " 'final': 1,\n",
       " 'resting': 1,\n",
       " 'place': 1,\n",
       " 'for': 5,\n",
       " 'those': 1,\n",
       " 'who': 3,\n",
       " 'here': 8,\n",
       " 'gave': 2,\n",
       " 'their': 1,\n",
       " 'lives': 1,\n",
       " 'might': 1,\n",
       " 'live': 1,\n",
       " 'it': 5,\n",
       " 'is': 3,\n",
       " 'altogether': 1,\n",
       " 'fitting': 1,\n",
       " 'proper': 1,\n",
       " 'should': 1,\n",
       " 'do': 1,\n",
       " 'but': 2,\n",
       " 'larger': 1,\n",
       " 'sense': 1,\n",
       " 'not': 5,\n",
       " 'consecrate': 1,\n",
       " 'hallow': 1,\n",
       " 'ground': 1,\n",
       " 'brave': 1,\n",
       " 'living': 2,\n",
       " 'dead': 3,\n",
       " 'struggled': 1,\n",
       " 'consecrated': 1,\n",
       " 'far': 2,\n",
       " 'above': 1,\n",
       " 'poor': 1,\n",
       " 'power': 1,\n",
       " 'add': 1,\n",
       " 'detract': 1,\n",
       " 'world': 1,\n",
       " 'will': 1,\n",
       " 'little': 1,\n",
       " 'note': 1,\n",
       " 'nor': 1,\n",
       " 'remember': 1,\n",
       " 'what': 2,\n",
       " 'say': 1,\n",
       " 'never': 1,\n",
       " 'forget': 1,\n",
       " 'they': 3,\n",
       " 'did': 1,\n",
       " 'us': 3,\n",
       " 'rather': 2,\n",
       " 'be': 2,\n",
       " 'unfinished': 1,\n",
       " 'work': 1,\n",
       " 'which': 2,\n",
       " 'fought': 1,\n",
       " 'thus': 1,\n",
       " 'nobly': 1,\n",
       " 'advanced': 1,\n",
       " 'task': 1,\n",
       " 'remaining': 1,\n",
       " 'before': 1,\n",
       " 'from': 2,\n",
       " 'these': 2,\n",
       " 'honored': 1,\n",
       " 'take': 1,\n",
       " 'increased': 1,\n",
       " 'devotion': 2,\n",
       " 'cause': 1,\n",
       " 'last': 1,\n",
       " 'full': 1,\n",
       " 'measure': 1,\n",
       " 'highly': 1,\n",
       " 'resolve': 1,\n",
       " 'shall': 3,\n",
       " 'died': 1,\n",
       " 'vain': 1,\n",
       " 'under': 1,\n",
       " 'god': 1,\n",
       " 'birth': 1,\n",
       " 'freedom': 1,\n",
       " 'government': 1,\n",
       " 'people': 3,\n",
       " 'by': 1,\n",
       " 'perish': 1,\n",
       " 'earth': 1}"
      ]
     },
     "execution_count": 365,
     "metadata": {},
     "output_type": "execute_result"
    }
   ],
   "source": [
    "### Write your code below this comment.\n",
    "counts = dict()\n",
    "for word in word_list:\n",
    "    counts[word] = counts.get(word,0) +1\n",
    "counts"
   ]
  },
  {
   "cell_type": "markdown",
   "metadata": {},
   "source": [
    "### Task 4 (1 mark)\n",
    "\n",
    "Three lists are provided below for you to work with. "
   ]
  },
  {
   "cell_type": "markdown",
   "metadata": {},
   "source": [
    "    numbers = [1, 2, 3]\n",
    "    letters = ['a', 'b', 'c']\n",
    "    longest = list(range(5))"
   ]
  },
  {
   "cell_type": "markdown",
   "metadata": {},
   "source": [
    "Connect the lists in such a way that the output looks as follows:"
   ]
  },
  {
   "cell_type": "markdown",
   "metadata": {
    "slideshow": {
     "slide_type": "fragment"
    }
   },
   "source": [
    "<img align=left src=\"images/task4.png\" height=\"550\" width=\"550\">"
   ]
  },
  {
   "cell_type": "code",
   "execution_count": 366,
   "metadata": {},
   "outputs": [
    {
     "data": {
      "text/plain": [
       "[(1, 'a', 0), (2, 'b', 1), (3, 'c', 2), ('?', '?', 3), ('?', '?', 4)]"
      ]
     },
     "execution_count": 366,
     "metadata": {},
     "output_type": "execute_result"
    }
   ],
   "source": [
    "### Write your code below this comment.\n",
    "numbers = [1, 2, 3]\n",
    "letters = ['a', 'b', 'c']\n",
    "longest = list(range(5))\n",
    "\n",
    "from itertools import zip_longest\n",
    "\n",
    "numbers_letters_longest = [tup for tup in zip_longest(numbers, letters, longest,fillvalue='?')]\n",
    "\n",
    "numbers_letters_longest"
   ]
  },
  {
   "cell_type": "markdown",
   "metadata": {},
   "source": [
    "### Task 5 (1 mark)\n",
    "\n",
    "Read the file __visit_data.csv__ into a Dataframe __df__. Figure out which of the columns in the Dataframe have duplicated values. Report your result as follows:"
   ]
  },
  {
   "cell_type": "markdown",
   "metadata": {},
   "source": [
    "<img align=left src=\"images/task5.png\" height=\"250\" width=\"250\">"
   ]
  },
  {
   "cell_type": "markdown",
   "metadata": {},
   "source": [
    "Use only two lines of code to accomplish the above. Do this first using just the __print__ function, then the __%__ operator with the __print__ function, and finally the __format__ method with the __print__ function.\n",
    "\n",
    "<u>Hints</u>: You can use __map__ and __str__ in conjunction with the __join__ method. To make the text bold font, you can use `'\\033[1m'` and `'\\033[0m'`."
   ]
  },
  {
   "cell_type": "code",
   "execution_count": 367,
   "metadata": {},
   "outputs": [
    {
     "data": {
      "text/html": [
       "<div>\n",
       "<style scoped>\n",
       "    .dataframe tbody tr th:only-of-type {\n",
       "        vertical-align: middle;\n",
       "    }\n",
       "\n",
       "    .dataframe tbody tr th {\n",
       "        vertical-align: top;\n",
       "    }\n",
       "\n",
       "    .dataframe thead th {\n",
       "        text-align: right;\n",
       "    }\n",
       "</style>\n",
       "<table border=\"1\" class=\"dataframe\">\n",
       "  <thead>\n",
       "    <tr style=\"text-align: right;\">\n",
       "      <th></th>\n",
       "      <th>id</th>\n",
       "      <th>first_name</th>\n",
       "      <th>last_name</th>\n",
       "      <th>email</th>\n",
       "      <th>gender</th>\n",
       "      <th>ip_address</th>\n",
       "      <th>nb_visits</th>\n",
       "    </tr>\n",
       "  </thead>\n",
       "  <tbody>\n",
       "    <tr>\n",
       "      <th>0</th>\n",
       "      <td>1</td>\n",
       "      <td>Sonny</td>\n",
       "      <td>Dahl</td>\n",
       "      <td>sdahl0@mysql.com</td>\n",
       "      <td>Male</td>\n",
       "      <td>135.36.96.183</td>\n",
       "      <td>1225.0</td>\n",
       "    </tr>\n",
       "    <tr>\n",
       "      <th>1</th>\n",
       "      <td>2</td>\n",
       "      <td>NaN</td>\n",
       "      <td>NaN</td>\n",
       "      <td>dhoovart1@hud.gov</td>\n",
       "      <td>NaN</td>\n",
       "      <td>237.165.194.143</td>\n",
       "      <td>919.0</td>\n",
       "    </tr>\n",
       "    <tr>\n",
       "      <th>2</th>\n",
       "      <td>3</td>\n",
       "      <td>Gar</td>\n",
       "      <td>Armal</td>\n",
       "      <td>garmal2@technorati.com</td>\n",
       "      <td>NaN</td>\n",
       "      <td>166.43.137.224</td>\n",
       "      <td>271.0</td>\n",
       "    </tr>\n",
       "    <tr>\n",
       "      <th>3</th>\n",
       "      <td>4</td>\n",
       "      <td>Chiarra</td>\n",
       "      <td>Nulty</td>\n",
       "      <td>cnulty3@newyorker.com</td>\n",
       "      <td>NaN</td>\n",
       "      <td>139.98.137.108</td>\n",
       "      <td>1002.0</td>\n",
       "    </tr>\n",
       "    <tr>\n",
       "      <th>4</th>\n",
       "      <td>5</td>\n",
       "      <td>NaN</td>\n",
       "      <td>NaN</td>\n",
       "      <td>sleaver4@elegantthemes.com</td>\n",
       "      <td>NaN</td>\n",
       "      <td>46.117.117.27</td>\n",
       "      <td>2434.0</td>\n",
       "    </tr>\n",
       "  </tbody>\n",
       "</table>\n",
       "</div>"
      ],
      "text/plain": [
       "   id first_name last_name                       email gender  \\\n",
       "0   1      Sonny      Dahl            sdahl0@mysql.com   Male   \n",
       "1   2        NaN       NaN           dhoovart1@hud.gov    NaN   \n",
       "2   3        Gar     Armal      garmal2@technorati.com    NaN   \n",
       "3   4    Chiarra     Nulty       cnulty3@newyorker.com    NaN   \n",
       "4   5        NaN       NaN  sleaver4@elegantthemes.com    NaN   \n",
       "\n",
       "        ip_address  nb_visits  \n",
       "0    135.36.96.183     1225.0  \n",
       "1  237.165.194.143      919.0  \n",
       "2   166.43.137.224      271.0  \n",
       "3   139.98.137.108     1002.0  \n",
       "4    46.117.117.27     2434.0  "
      ]
     },
     "execution_count": 367,
     "metadata": {},
     "output_type": "execute_result"
    }
   ],
   "source": [
    "### Write your code below this comment.\n",
    "import pandas as pd\n",
    "df = pd.read_csv('data/visit_data.csv')\n",
    "df.head()"
   ]
  },
  {
   "cell_type": "code",
   "execution_count": 368,
   "metadata": {},
   "outputs": [
    {
     "name": "stdout",
     "output_type": "stream",
     "text": [
      "\u001b[1mId\u001b[0m is duplicated: False\n",
      "\u001b[1mFirst Name\u001b[0m is duplicated: True\n",
      "\u001b[1mLast Name\u001b[0m is duplicated: True\n",
      "\u001b[1mEmail\u001b[0m is duplicated: False\n",
      "\u001b[1mGender\u001b[0m is duplicated: True\n",
      "\u001b[1mIp Address\u001b[0m is duplicated: False\n",
      "\u001b[1mNb Visits\u001b[0m is duplicated: True\n"
     ]
    }
   ],
   "source": [
    "# Using print\n",
    "for column in df.columns:\n",
    "    print('\\033[1m', column.replace('_',' ').title(), '\\033[0m', ' is duplicated: ', \n",
    "          df[column].duplicated().any(), sep='')"
   ]
  },
  {
   "cell_type": "code",
   "execution_count": 369,
   "metadata": {},
   "outputs": [
    {
     "name": "stdout",
     "output_type": "stream",
     "text": [
      "\u001b[1mId\u001b[0m is duplicated: False\n",
      "\u001b[1mFirst Name\u001b[0m is duplicated: True\n",
      "\u001b[1mLast Name\u001b[0m is duplicated: True\n",
      "\u001b[1mEmail\u001b[0m is duplicated: False\n",
      "\u001b[1mGender\u001b[0m is duplicated: True\n",
      "\u001b[1mIp Address\u001b[0m is duplicated: False\n",
      "\u001b[1mNb Visits\u001b[0m is duplicated: True\n"
     ]
    }
   ],
   "source": [
    "# Using % with print\n",
    "for column in df.columns:\n",
    "    print(\"\"\"\\033[1m%s\\033[0m is duplicated: %s\"\"\" % (column.replace('_',' ').title(),df[column].duplicated().any()))"
   ]
  },
  {
   "cell_type": "code",
   "execution_count": 370,
   "metadata": {},
   "outputs": [
    {
     "name": "stdout",
     "output_type": "stream",
     "text": [
      "\u001b[1mId\u001b[0m is duplicated: False\n",
      "\u001b[1mFirst Name\u001b[0m is duplicated: True\n",
      "\u001b[1mLast Name\u001b[0m is duplicated: True\n",
      "\u001b[1mEmail\u001b[0m is duplicated: False\n",
      "\u001b[1mGender\u001b[0m is duplicated: True\n",
      "\u001b[1mIp Address\u001b[0m is duplicated: False\n",
      "\u001b[1mNb Visits\u001b[0m is duplicated: True\n"
     ]
    }
   ],
   "source": [
    "# using format with print\n",
    "for column in df.columns:\n",
    "    print(\"\"\"\\033[1m{}\\033[0m is duplicated: {}\"\"\".format(column.replace('_',' ').title(),\n",
    "                                                          df[column].duplicated().any()))"
   ]
  },
  {
   "cell_type": "markdown",
   "metadata": {},
   "source": [
    "You will find that there are duplicates in __First Name__, __Last Name__, __Gender__, and __Nb Visits__. Do you find these abnormal? Explain your reasoning in the cell below."
   ]
  },
  {
   "cell_type": "markdown",
   "metadata": {},
   "source": [
    "__Reasoning:__ This is totally normal, because several people can have the same first name, or the same last name, or the same gender or the same number of visits."
   ]
  },
  {
   "cell_type": "markdown",
   "metadata": {},
   "source": [
    "### Task 6 (1 mark)\n",
    "\n",
    "Save the number of rows in the Dataframe as __size_prev__. Then drop any missing values from the column __nb_visits__, save the resulting Dataframe, and again save the number of rows as __size_after__. Report the size of the resulting Dataframe as follows using __print__ in conjunction with __format__:"
   ]
  },
  {
   "cell_type": "markdown",
   "metadata": {},
   "source": [
    "<img align=left src=\"images/task6.png\" height=\"650\" width=\"650\">"
   ]
  },
  {
   "cell_type": "code",
   "execution_count": 371,
   "metadata": {},
   "outputs": [],
   "source": [
    "### Write your code below this comment.\n",
    "size_prev = len(df)"
   ]
  },
  {
   "cell_type": "code",
   "execution_count": 372,
   "metadata": {},
   "outputs": [
    {
     "name": "stdout",
     "output_type": "stream",
     "text": [
      "The size of previous data was - 1000 rows and the size of the new one is - 974 rows\n"
     ]
    }
   ],
   "source": [
    "df.dropna(subset='nb_visits', inplace=True)\n",
    "size_after = len(df)\n",
    "print(\"\"\"The size of previous data was - {} rows and the size of the new one is - {} rows\"\"\".format(size_prev,\n",
    "                                                                                                   size_after))"
   ]
  },
  {
   "cell_type": "markdown",
   "metadata": {},
   "source": [
    "### Task 7 (1 mark)\n",
    "\n",
    "Import the necessary plotting libraries and visualize any outliers for the column __nb_visits__."
   ]
  },
  {
   "cell_type": "code",
   "execution_count": 373,
   "metadata": {},
   "outputs": [
    {
     "data": {
      "image/png": "[encoded data removed]",
      "text/plain": [
       "<Figure size 432x288 with 1 Axes>"
      ]
     },
     "metadata": {
      "needs_background": "light"
     },
     "output_type": "display_data"
    }
   ],
   "source": [
    "### Write your code below this comment.\n",
    "import matplotlib.pyplot as plt\n",
    "\n",
    "%matplotlib inline\n",
    "plt.boxplot(df['nb_visits'])\n",
    "plt.show()"
   ]
  },
  {
   "cell_type": "markdown",
   "metadata": {},
   "source": [
    "Did you see any outliers?"
   ]
  },
  {
   "cell_type": "markdown",
   "metadata": {},
   "source": [
    "__Answer:__ The plot does not show any outliers."
   ]
  },
  {
   "cell_type": "markdown",
   "metadata": {},
   "source": [
    "### Task 8 (1 mark)\n",
    "\n",
    "Now filter the Dataframe based on the z-score for the column __nb_visits__."
   ]
  },
  {
   "cell_type": "code",
   "execution_count": 374,
   "metadata": {},
   "outputs": [
    {
     "name": "stdout",
     "output_type": "stream",
     "text": [
      "df has 974 rows and df_without_outliers has 974 rows.\n"
     ]
    }
   ],
   "source": [
    "### Write your code below this comment.\n",
    "from scipy import stats\n",
    "df['visits_zscore'] = stats.zscore(df['nb_visits'])\n",
    "df_without_outliers = df[(df['visits_zscore'] > -3) & (df['visits_zscore'] < 3)]\n",
    "print(\"\"\"df has {} rows and df_without_outliers has {} rows.\"\"\".format(len(df),len(df_without_outliers)))\n"
   ]
  },
  {
   "cell_type": "markdown",
   "metadata": {},
   "source": [
    "Were any outliers removed?"
   ]
  },
  {
   "cell_type": "markdown",
   "metadata": {},
   "source": [
    "__Answer:__ No outliers were removed. The dataframes have the same number of rows."
   ]
  },
  {
   "cell_type": "markdown",
   "metadata": {},
   "source": [
    "### Task 9 (1 mark)\n",
    "\n",
    "Let's introduce some outliers into the column __nb_visits__. Simply multiply the first five values for this column with 10 and once again visualize any outliers."
   ]
  },
  {
   "cell_type": "code",
   "execution_count": 375,
   "metadata": {},
   "outputs": [],
   "source": [
    "### Write your code below this comment.\n",
    "df.loc[:4, 'nb_visits'] *=10"
   ]
  },
  {
   "cell_type": "code",
   "execution_count": 376,
   "metadata": {},
   "outputs": [
    {
     "data": {
      "text/html": [
       "<div>\n",
       "<style scoped>\n",
       "    .dataframe tbody tr th:only-of-type {\n",
       "        vertical-align: middle;\n",
       "    }\n",
       "\n",
       "    .dataframe tbody tr th {\n",
       "        vertical-align: top;\n",
       "    }\n",
       "\n",
       "    .dataframe thead th {\n",
       "        text-align: right;\n",
       "    }\n",
       "</style>\n",
       "<table border=\"1\" class=\"dataframe\">\n",
       "  <thead>\n",
       "    <tr style=\"text-align: right;\">\n",
       "      <th></th>\n",
       "      <th>id</th>\n",
       "      <th>first_name</th>\n",
       "      <th>last_name</th>\n",
       "      <th>email</th>\n",
       "      <th>gender</th>\n",
       "      <th>ip_address</th>\n",
       "      <th>nb_visits</th>\n",
       "      <th>visits_zscore</th>\n",
       "    </tr>\n",
       "  </thead>\n",
       "  <tbody>\n",
       "    <tr>\n",
       "      <th>0</th>\n",
       "      <td>1</td>\n",
       "      <td>Sonny</td>\n",
       "      <td>Dahl</td>\n",
       "      <td>sdahl0@mysql.com</td>\n",
       "      <td>Male</td>\n",
       "      <td>135.36.96.183</td>\n",
       "      <td>12250.0</td>\n",
       "      <td>-0.325542</td>\n",
       "    </tr>\n",
       "    <tr>\n",
       "      <th>1</th>\n",
       "      <td>2</td>\n",
       "      <td>NaN</td>\n",
       "      <td>NaN</td>\n",
       "      <td>dhoovart1@hud.gov</td>\n",
       "      <td>NaN</td>\n",
       "      <td>237.165.194.143</td>\n",
       "      <td>9190.0</td>\n",
       "      <td>-0.690467</td>\n",
       "    </tr>\n",
       "    <tr>\n",
       "      <th>2</th>\n",
       "      <td>3</td>\n",
       "      <td>Gar</td>\n",
       "      <td>Armal</td>\n",
       "      <td>garmal2@technorati.com</td>\n",
       "      <td>NaN</td>\n",
       "      <td>166.43.137.224</td>\n",
       "      <td>2710.0</td>\n",
       "      <td>-1.463249</td>\n",
       "    </tr>\n",
       "    <tr>\n",
       "      <th>3</th>\n",
       "      <td>4</td>\n",
       "      <td>Chiarra</td>\n",
       "      <td>Nulty</td>\n",
       "      <td>cnulty3@newyorker.com</td>\n",
       "      <td>NaN</td>\n",
       "      <td>139.98.137.108</td>\n",
       "      <td>10020.0</td>\n",
       "      <td>-0.591484</td>\n",
       "    </tr>\n",
       "    <tr>\n",
       "      <th>4</th>\n",
       "      <td>5</td>\n",
       "      <td>NaN</td>\n",
       "      <td>NaN</td>\n",
       "      <td>sleaver4@elegantthemes.com</td>\n",
       "      <td>NaN</td>\n",
       "      <td>46.117.117.27</td>\n",
       "      <td>24340.0</td>\n",
       "      <td>1.116269</td>\n",
       "    </tr>\n",
       "  </tbody>\n",
       "</table>\n",
       "</div>"
      ],
      "text/plain": [
       "   id first_name last_name                       email gender  \\\n",
       "0   1      Sonny      Dahl            sdahl0@mysql.com   Male   \n",
       "1   2        NaN       NaN           dhoovart1@hud.gov    NaN   \n",
       "2   3        Gar     Armal      garmal2@technorati.com    NaN   \n",
       "3   4    Chiarra     Nulty       cnulty3@newyorker.com    NaN   \n",
       "4   5        NaN       NaN  sleaver4@elegantthemes.com    NaN   \n",
       "\n",
       "        ip_address  nb_visits  visits_zscore  \n",
       "0    135.36.96.183    12250.0      -0.325542  \n",
       "1  237.165.194.143     9190.0      -0.690467  \n",
       "2   166.43.137.224     2710.0      -1.463249  \n",
       "3   139.98.137.108    10020.0      -0.591484  \n",
       "4    46.117.117.27    24340.0       1.116269  "
      ]
     },
     "execution_count": 376,
     "metadata": {},
     "output_type": "execute_result"
    }
   ],
   "source": [
    "df.head()"
   ]
  },
  {
   "cell_type": "code",
   "execution_count": 377,
   "metadata": {},
   "outputs": [
    {
     "data": {
      "image/png": "[encoded data removed]",
      "text/plain": [
       "<Figure size 432x288 with 1 Axes>"
      ]
     },
     "metadata": {
      "needs_background": "light"
     },
     "output_type": "display_data"
    }
   ],
   "source": [
    "plt.boxplot(df['nb_visits'])\n",
    "plt.show()"
   ]
  },
  {
   "cell_type": "markdown",
   "metadata": {},
   "source": [
    "Did you see any outliers?"
   ]
  },
  {
   "cell_type": "markdown",
   "metadata": {},
   "source": [
    "__Answer:__ Yes, the data points that are shown out of the bounds of the boxplot are considered outliers."
   ]
  },
  {
   "cell_type": "markdown",
   "metadata": {},
   "source": [
    "### Task 10 (1 mark)\n",
    "\n",
    "Finally, filter the Dataframe once again based on the z-score for the updated __nb_visits__ column and save the resulting Dataframe."
   ]
  },
  {
   "cell_type": "code",
   "execution_count": 378,
   "metadata": {},
   "outputs": [],
   "source": [
    "### Write your code below this comment.\n",
    "df['visits_zscore'] = stats.zscore(df['nb_visits'])"
   ]
  },
  {
   "cell_type": "code",
   "execution_count": 379,
   "metadata": {},
   "outputs": [
    {
     "name": "stdout",
     "output_type": "stream",
     "text": [
      "df has 974 rows and df_without_outliers has 970 rows.\n"
     ]
    }
   ],
   "source": [
    "df_without_outliers = df[(df['visits_zscore'] > -3) & (df['visits_zscore'] < 3)]\n",
    "print(\"\"\"df has {} rows and df_without_outliers has {} rows.\"\"\".format(len(df),len(df_without_outliers)))"
   ]
  },
  {
   "cell_type": "code",
   "execution_count": 380,
   "metadata": {},
   "outputs": [
    {
     "name": "stderr",
     "output_type": "stream",
     "text": [
      "/var/folders/bz/4718vpys5hn6s49pgws_hng40000gn/T/ipykernel_27760/2504401229.py:1: SettingWithCopyWarning: \n",
      "A value is trying to be set on a copy of a slice from a DataFrame\n",
      "\n",
      "See the caveats in the documentation: https://pandas.pydata.org/pandas-docs/stable/user_guide/indexing.html#returning-a-view-versus-a-copy\n",
      "  df_without_outliers.drop(columns = ['visits_zscore'], axis=1, inplace=True)\n"
     ]
    }
   ],
   "source": [
    "df_without_outliers.drop(columns = ['visits_zscore'], axis=1, inplace=True)\n",
    "df.drop(columns = ['visits_zscore'],axis=1, inplace=True)"
   ]
  },
  {
   "cell_type": "code",
   "execution_count": 381,
   "metadata": {},
   "outputs": [],
   "source": [
    "df_without_outliers.to_csv('data/visits_without_outliers.csv')"
   ]
  },
  {
   "cell_type": "markdown",
   "metadata": {},
   "source": [
    "Were any outliers removed? If yes, how many? Did the number of outliers removed agree with the visualization in Task 7 above? Did you get the same number of outliers you were expecting? If not, why?"
   ]
  },
  {
   "cell_type": "markdown",
   "metadata": {},
   "source": [
    "__Answer:__ ... Yes, 4 outliers were removed. The boxplot also showed 4 outliers."
   ]
  }
 ],
 "metadata": {
  "anaconda-cloud": {},
  "kernelspec": {
   "display_name": "Python 3 (ipykernel)",
   "language": "python",
   "name": "python3"
  },
  "language_info": {
   "codemirror_mode": {
    "name": "ipython",
    "version": 3
   },
   "file_extension": ".py",
   "mimetype": "text/x-python",
   "name": "python",
   "nbconvert_exporter": "python",
   "pygments_lexer": "ipython3",
   "version": "3.9.7"
  }
 },
 "nbformat": 4,
 "nbformat_minor": 2
}
